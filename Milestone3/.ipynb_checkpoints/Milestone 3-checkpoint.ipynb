{
 "cells": [
  {
   "cell_type": "markdown",
   "metadata": {},
   "source": [
    "# WQD7005 - Data Mining\n",
    "## Continuous Assessment\n",
    "## Milestone 3"
   ]
  },
  {
   "cell_type": "markdown",
   "metadata": {},
   "source": [
    "#### Matrix Number : 17043640\n",
    "\n",
    "#### Name                 : Gunasegarran Magadevan"
   ]
  },
  {
   "cell_type": "markdown",
   "metadata": {},
   "source": [
    "### Python to Hive"
   ]
  },
  {
   "cell_type": "markdown",
   "metadata": {},
   "source": [
    "#### 1.0 Executing the cleaned data into Hive from local machine\n",
    "#### <center><img src='results/result.png'></center>"
   ]
  },
  {
   "cell_type": "markdown",
   "metadata": {},
   "source": [
    "#### 2.0 Connecting Hive from local machine"
   ]
  },
  {
   "cell_type": "code",
   "execution_count": null,
   "metadata": {},
   "outputs": [],
   "source": [
    "#installing dependency libraries\n",
    "!pip install sasl --quiet\n",
    "!pip install pyhive --quiet\n",
    "\n",
    "#importing libraries\n",
    "import csv\n",
    "from pyhive import hive\n",
    "import pandas as pd\n",
    "import sys"
   ]
  },
  {
   "cell_type": "code",
   "execution_count": null,
   "metadata": {},
   "outputs": [],
   "source": [
    "#connecting to hiveserver2 using beeline in local machine\n",
    "conn = hive.connect(host='localhost', port=10000, username='root', auth='NONE')"
   ]
  },
  {
   "cell_type": "code",
   "execution_count": null,
   "metadata": {},
   "outputs": [],
   "source": [
    "#output of goldrate\n",
    "goldrate = pd.read_sql(\"select * from goldrate\", conn) \n",
    "print(sys.getsizeof(goldrate))\n",
    "goldrate.head()"
   ]
  },
  {
   "cell_type": "code",
   "execution_count": null,
   "metadata": {},
   "outputs": [],
   "source": [
    "#output of oilrate\n",
    "oilrate = pd.read_sql(\"select * from oilrate\", conn) \n",
    "print(sys.getsizeof(oilrate))\n",
    "oilrate.head()"
   ]
  },
  {
   "cell_type": "code",
   "execution_count": null,
   "metadata": {},
   "outputs": [],
   "source": [
    "#output of currencyexchange\n",
    "currencyexchange = pd.read_sql(\"select * from currencyexchange\", conn) \n",
    "print(sys.getsizeof(currencyexchange))\n",
    "currencyexchange.head()"
   ]
  },
  {
   "cell_type": "code",
   "execution_count": null,
   "metadata": {},
   "outputs": [],
   "source": [
    "goldrate.to_csv('hiveData/goldrate_hive.csv',mode = 'w', index=False)\n",
    "oilrate.to_csv('hiveData/oilrate_hive.csv',mode = 'w', index=False)\n",
    "currencyexchange.to_csv('hiveData/currencyexchange_hive.csv',mode = 'w', index=False)"
   ]
  }
 ],
 "metadata": {
  "kernelspec": {
   "display_name": "Python 3",
   "language": "python",
   "name": "python3"
  },
  "language_info": {
   "codemirror_mode": {
    "name": "ipython",
    "version": 3
   },
   "file_extension": ".py",
   "mimetype": "text/x-python",
   "name": "python",
   "nbconvert_exporter": "python",
   "pygments_lexer": "ipython3",
   "version": "3.7.6"
  }
 },
 "nbformat": 4,
 "nbformat_minor": 2
}
