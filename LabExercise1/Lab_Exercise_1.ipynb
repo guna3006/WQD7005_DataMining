{
 "cells": [
  {
   "cell_type": "markdown",
   "metadata": {},
   "source": [
    "# WQD7005 - Data Mining\n",
    "## Lab Exersice 1"
   ]
  },
  {
   "cell_type": "markdown",
   "metadata": {},
   "source": [
    "#### Matrix Number : 17043640\n",
    "\n",
    "#### Name                 : Gunasegarran Magadevan"
   ]
  },
  {
   "cell_type": "markdown",
   "metadata": {},
   "source": [
    "i) Understanding data: exploring and visualising data to gain initial insights and understanding.\n",
    "ii) Dealing with missing values: missing values are detrimental to performance of data mining models.\n",
    "iii) Noise and errorneous data cleaning: similar to missing values, they can also negatively impact data mining models and analysis.\n",
    "iv) Data formatting: formatting data into a format suitable for the underlying algorithm and framework to be used. \n",
    "This includes setting correct roles and data types for variables based on their analytics purpose.\n",
    "\n",
    "\n",
    "You will be learned about how to load the lab1 dataset and review overall information about fields in the dataset.\n",
    "\n",
    "In predictive data mining process, there must be a target variable whose value is to be predicted. \n",
    "In this dataset, we aim to classify whether a person is a lapsing donor or not, corresponding to TargetB. \n",
    "We are focusing on \"classification\" prediction mining. We are not interested in knowing the exact amount of donation that \n",
    "a person will make. In other words, we will not treat this problem as “regression“ prediction problem. \n",
    "Therefore, we will not need TargetD and it will be dropped from the dataset."
   ]
  },
  {
   "cell_type": "code",
   "execution_count": 1,
   "metadata": {},
   "outputs": [
    {
     "name": "stdout",
     "output_type": "stream",
     "text": [
      "<class 'pandas.core.frame.DataFrame'>\n",
      "RangeIndex: 9686 entries, 0 to 9685\n",
      "Data columns (total 28 columns):\n",
      "TargetB             9686 non-null int64\n",
      "ID                  9686 non-null int64\n",
      "TargetD             4843 non-null float64\n",
      "GiftCnt36           9686 non-null int64\n",
      "GiftCntAll          9686 non-null int64\n",
      "GiftCntCard36       9686 non-null int64\n",
      "GiftCntCardAll      9686 non-null int64\n",
      "GiftAvgLast         9686 non-null float64\n",
      "GiftAvg36           9686 non-null float64\n",
      "GiftAvgAll          9686 non-null float64\n",
      "GiftAvgCard36       7906 non-null float64\n",
      "GiftTimeLast        9686 non-null int64\n",
      "GiftTimeFirst       9686 non-null int64\n",
      "PromCnt12           9686 non-null int64\n",
      "PromCnt36           9686 non-null int64\n",
      "PromCntAll          9686 non-null int64\n",
      "PromCntCard12       9686 non-null int64\n",
      "PromCntCard36       9686 non-null int64\n",
      "PromCntCardAll      9686 non-null int64\n",
      "StatusCat96NK       9686 non-null object\n",
      "StatusCatStarAll    9686 non-null int64\n",
      "DemCluster          9686 non-null int64\n",
      "DemAge              7279 non-null float64\n",
      "DemGender           9686 non-null object\n",
      "DemHomeOwner        9686 non-null object\n",
      "DemMedHomeValue     9686 non-null int64\n",
      "DemPctVeterans      9686 non-null int64\n",
      "DemMedIncome        9686 non-null int64\n",
      "dtypes: float64(6), int64(19), object(3)\n",
      "memory usage: 2.1+ MB\n"
     ]
    }
   ],
   "source": [
    "import pandas as pd\n",
    "\n",
    "df = pd.read_csv('lab1.csv')\n",
    "df.info()"
   ]
  },
  {
   "cell_type": "markdown",
   "metadata": {},
   "source": [
    "2. Exploring data\n",
    "Exploring and validating content of your data is a vital part of the data preparation process. By assaying the prepared data,\n",
    "you substantially reduce the chances of errorneous results in your analysis and gain visual insights into associations between variables. This section will guide you to find these vital insights.\n",
    "\n",
    "Firstly, let's take a closer look on the dataset. The dataframe .info() output revealed a number of important information from the dataset:\n",
    "\n",
    "Number of rows (or entries): ???\n",
    "Number of fields (or columns): ???\n",
    "Number of entries and data type for each column: e.g. ??? entries and integer number for Target B; \n",
    "??? entries and floating point for GiftAvgCard36.\n",
    "From point three, we learned there are irregularities in some columns. \n",
    "For example, with ??? rows in the whole dataset, there are only ??? data points in GiftAvgCard36. \n",
    "This requires a deeper investigation of each column.\n",
    "\n",
    "2.1. Explore column data\n",
    "Assume we would like to investigate the DemAge column of this dataset in depth. Recall, a column in Pandas is called a Series, \n",
    "and there are many functions providing insights on the characteristic and distribution of the data.\n",
    "\n",
    "Essential functions for data exploration in Pandas\n",
    "Function pandas.Series.describe() prints key statistics of a series, including count (number of non-missing values), \n",
    "mean (average), std (standard deviation), min, max, and quantiles (typically at 25%, 50%, 75%. 50% quantile is also called as median).\n",
    "\n",
    "Function pandas.Series.unique() prints unique values in a Series. Typically used for categorical variables.\n",
    "\n",
    "Function pandas.Series.value_counts() prints unique values and corresponding count in a Series. Also commonly used for \n",
    "categorical variables.\n",
    "\n",
    "Let's start with .describe(). Run the following command into your iPython console.\n",
    "\n",
    "\n",
    "To check the unique values and how many records for each value, we could use .unique() and .value_counts() functions.\n",
    "\n",
    "When dealing with interval variables, typically binning (categorising values into certain ranges) is very common to allow \n",
    "easier interpretation. In pandas, we can do this by supplying bins parameter into the .value_counts() function.\n",
    "\n",
    "\n",
    "The output of these functions revealed a number of data problems with \"DemAge\" column.\n",
    "\n",
    "There are only ??? records in \"DemAge\" column (from .describe()'s count output), while the total number of records in this data set \n",
    "is ???. This indicates missing values in \"DemAge\". This observation is also visible through the NaN printed by .unique() method.\n",
    "One record in \"DemAge\" has 0 as value (from the .value_counts() output). Logically, someone should not have age of 0. \n",
    "It indicates an errorneous data that needs to be removed from this column.\n",
    "These problems need to be rectified before building data mining models. We will learn the techniques to fix data issues later in section 3.\n",
    "\n",
    "Could you spot data problems in other columns using .describe(), .unique() and .value_counts()?"
   ]
  },
  {
   "cell_type": "code",
   "execution_count": 2,
   "metadata": {},
   "outputs": [
    {
     "data": {
      "text/plain": [
       "count    7279.000000\n",
       "mean       59.150845\n",
       "std        16.516400\n",
       "min         0.000000\n",
       "25%        47.000000\n",
       "50%        60.000000\n",
       "75%        73.000000\n",
       "max        87.000000\n",
       "Name: DemAge, dtype: float64"
      ]
     },
     "execution_count": 2,
     "metadata": {},
     "output_type": "execute_result"
    }
   ],
   "source": [
    "df['DemAge'].describe()"
   ]
  },
  {
   "cell_type": "code",
   "execution_count": 3,
   "metadata": {},
   "outputs": [
    {
     "data": {
      "text/plain": [
       "array([nan, 67., 53., 47., 58., 39., 50., 45., 80., 61., 76., 41., 75.,\n",
       "       59., 51., 31., 54., 70., 42., 65., 81., 38., 56., 69., 52., 33.,\n",
       "       73., 71., 29., 60., 83., 43., 35., 77., 44., 72., 64., 34., 55.,\n",
       "       37., 57., 46., 49., 32., 66., 87., 40., 79., 25., 63., 62., 48.,\n",
       "       68., 86., 23., 27., 74., 78., 85., 26.,  7., 36., 82., 24., 17.,\n",
       "       30., 84., 21., 28., 22., 19., 16., 14.,  6.,  0.,  2., 20., 18.,\n",
       "       15.,  4.])"
      ]
     },
     "execution_count": 3,
     "metadata": {},
     "output_type": "execute_result"
    }
   ],
   "source": [
    "df['DemAge'].unique()"
   ]
  },
  {
   "cell_type": "code",
   "execution_count": 4,
   "metadata": {},
   "outputs": [
    {
     "data": {
      "text/plain": [
       "73.0    216\n",
       "67.0    215\n",
       "75.0    203\n",
       "49.0    201\n",
       "57.0    187\n",
       "77.0    183\n",
       "55.0    182\n",
       "65.0    181\n",
       "47.0    179\n",
       "69.0    178\n",
       "71.0    173\n",
       "51.0    167\n",
       "79.0    165\n",
       "45.0    164\n",
       "74.0    162\n",
       "53.0    152\n",
       "59.0    150\n",
       "76.0    139\n",
       "43.0    138\n",
       "63.0    138\n",
       "81.0    136\n",
       "61.0    136\n",
       "50.0    131\n",
       "37.0    125\n",
       "41.0    124\n",
       "78.0    123\n",
       "80.0    123\n",
       "72.0    122\n",
       "70.0    116\n",
       "68.0    116\n",
       "       ... \n",
       "84.0     70\n",
       "27.0     69\n",
       "86.0     68\n",
       "33.0     65\n",
       "31.0     59\n",
       "36.0     57\n",
       "38.0     53\n",
       "17.0     46\n",
       "34.0     42\n",
       "29.0     33\n",
       "7.0      32\n",
       "32.0     31\n",
       "30.0     24\n",
       "26.0     19\n",
       "28.0     19\n",
       "25.0     17\n",
       "23.0     12\n",
       "22.0      7\n",
       "24.0      6\n",
       "16.0      5\n",
       "21.0      5\n",
       "19.0      4\n",
       "6.0       3\n",
       "14.0      1\n",
       "0.0       1\n",
       "2.0       1\n",
       "20.0      1\n",
       "4.0       1\n",
       "18.0      1\n",
       "15.0      1\n",
       "Name: DemAge, Length: 79, dtype: int64"
      ]
     },
     "execution_count": 4,
     "metadata": {},
     "output_type": "execute_result"
    }
   ],
   "source": [
    "df['DemAge'].value_counts()"
   ]
  },
  {
   "cell_type": "code",
   "execution_count": 5,
   "metadata": {},
   "outputs": [
    {
     "data": {
      "text/plain": [
       "(69.6, 78.3]     1437\n",
       "(60.9, 69.6]     1250\n",
       "(43.5, 52.2]     1223\n",
       "(52.2, 60.9]     1043\n",
       "(78.3, 87.0]      932\n",
       "(34.8, 43.5]      889\n",
       "(26.1, 34.8]      342\n",
       "(17.4, 26.1]       72\n",
       "(8.7, 17.4]        53\n",
       "(-0.088, 8.7]      38\n",
       "Name: DemAge, dtype: int64"
      ]
     },
     "execution_count": 5,
     "metadata": {},
     "output_type": "execute_result"
    }
   ],
   "source": [
    "df['DemAge'].value_counts(bins=10)"
   ]
  },
  {
   "cell_type": "code",
   "execution_count": 6,
   "metadata": {},
   "outputs": [
    {
     "data": {
      "text/plain": [
       "TargetB\n",
       "0    58.304444\n",
       "1    59.979070\n",
       "Name: DemAge, dtype: float64"
      ]
     },
     "execution_count": 6,
     "metadata": {},
     "output_type": "execute_result"
    }
   ],
   "source": [
    "df.groupby(['TargetB'])['DemAge'].mean()"
   ]
  },
  {
   "cell_type": "markdown",
   "metadata": {},
   "source": [
    "2.2. Grouping and plotting distributions of columns\n",
    "From the previous section, you have revealed some issues with each column in this dataset. This is not enough, however, \n",
    "as we also need to look into interaction between two or more variables. In addition, plotting distribution of data column(s) \n",
    "might produce more insights on the problems in this data.\n",
    "\n",
    "Grouping is commonly used to see whether there is a trend between two or more different fields. For example, we would like to \n",
    "know specific correlations between tendency to be a lapsing donor (TargetB) and age (DemAge), gender (DemGender) or \n",
    "median home value (DemMedHomeValue). In pandas, grouping can be performed using the .groupby() method. .groupby() will\n",
    "return a grouped Series, which we can run value_counts(), mean(), .median() and many other Series functions on.\n",
    "\n",
    "Let's start with age (DemAge). Run the following command to get the average age of lapsing donors vs non-lapsing donors.\n",
    "\n",
    "Other than .mean(), we could also perform grouping with other method such as .value_counts() or .median(). Use value_counts() to \n",
    "get gender of lapsing and non-lapsing donors.\n",
    "\n",
    "get the value count of each gender.\n",
    "\n",
    "add normalisation to get the relative frequency\n",
    "\n",
    "\n",
    "It seems there is an equal proportion of female/male/unknown gender donors in both lapsing and non-lapsing donors.\n",
    "\n",
    "While all of the methods we have used so far are very useful in providing information about the data, data mining professionals \n",
    "commonly visualise these information in plots for easier presentation. In Python, there are many libraries to draw great data plots, \n",
    "such as matplotlib, seaborn, ggplot, plotly and bokeh. In this unit, we will use seaborn and matplotlib,\n",
    "two of the most popular visualisation libraries. Import both of them with the following command.\n",
    "\n",
    "Plotting the distribution values in a field/column is a common visualization task. A number options exist in seaborn/matplotlib. \n",
    "For interval/numerical variables, distplot can be used. Let's try that for \"DemAge\". distplot is sensitive towards missing values \n",
    "(which are present in \"DemAge\"), thus we have to drop them using dropna() method.\n",
    "\n",
    "\n",
    "From the plot above, we can see most donors are between 40-80 years old, with the data distribution skewed to right.\n",
    "\n",
    "Distribution plots are typically use only for interval/numerical variables. For nominal/categorical variables, \n",
    "such as DemGender, countplot is used to build a bar chart to show distribution of each values.\n",
    "\n",
    "Lastly, we can explore the distribution of a variable using boxplot. Assume we would like to see the difference of home values of \n",
    "the donors vs non-donors. We can build a boxplot with TargetB as X and DemMedHomeValue as y.\n",
    "\n",
    "\n",
    "The boxplot shows a slight difference of home values of lapsing and non-lapsing donors. Lapsing donors have slightly higher average and maximum home value, sign of affluence and wealth.\n",
    "\n",
    "Could you visualize other columns using distplot, countplot and boxplot?\n",
    "\n",
    "With practice, you should be able to master exploration and visualisation skill, to use specific functions suited best for a \n",
    "particular field.\n"
   ]
  },
  {
   "cell_type": "code",
   "execution_count": 7,
   "metadata": {},
   "outputs": [
    {
     "name": "stdout",
     "output_type": "stream",
     "text": [
      "TargetB  DemGender\n",
      "0        F            2614\n",
      "         M            1963\n",
      "         U             266\n",
      "1        F            2609\n",
      "         M            1962\n",
      "         U             272\n",
      "Name: DemGender, dtype: int64\n",
      "--------------------\n"
     ]
    },
    {
     "data": {
      "text/plain": [
       "TargetB  DemGender\n",
       "0        F            0.539748\n",
       "         M            0.405327\n",
       "         U            0.054925\n",
       "1        F            0.538716\n",
       "         M            0.405121\n",
       "         U            0.056164\n",
       "Name: DemGender, dtype: float64"
      ]
     },
     "execution_count": 7,
     "metadata": {},
     "output_type": "execute_result"
    }
   ],
   "source": [
    "print(df.groupby(['TargetB'])['DemGender'].value_counts())\n",
    "print (\"--------------------\")\n",
    "df.groupby(['TargetB'])['DemGender'].value_counts(normalize=True)"
   ]
  },
  {
   "cell_type": "code",
   "execution_count": 8,
   "metadata": {},
   "outputs": [
    {
     "data": {
      "text/plain": [
       "'0.9.0'"
      ]
     },
     "execution_count": 8,
     "metadata": {},
     "output_type": "execute_result"
    }
   ],
   "source": [
    "import matplotlib.pyplot as plt\n",
    "import seaborn as sns\n",
    "sns.__version__"
   ]
  },
  {
   "cell_type": "code",
   "execution_count": 9,
   "metadata": {},
   "outputs": [
    {
     "data": {
      "image/png": "[encoded data removed]",
      "text/plain": [
       "<Figure size 432x288 with 1 Axes>"
      ]
     },
     "metadata": {
      "needs_background": "light"
     },
     "output_type": "display_data"
    }
   ],
   "source": [
    "dg = sns.distplot(df['DemAge'].dropna())"
   ]
  },
  {
   "cell_type": "code",
   "execution_count": 10,
   "metadata": {},
   "outputs": [
    {
     "data": {
      "image/png": "[encoded data removed]",
      "text/plain": [
       "<Figure size 432x288 with 1 Axes>"
      ]
     },
     "metadata": {
      "needs_background": "light"
     },
     "output_type": "display_data"
    }
   ],
   "source": [
    "dc = sns.countplot(data=df, x='DemGender')\n",
    "plt.show()"
   ]
  },
  {
   "cell_type": "code",
   "execution_count": 11,
   "metadata": {},
   "outputs": [
    {
     "data": {
      "image/png": "[encoded data removed]",
      "text/plain": [
       "<Figure size 432x288 with 1 Axes>"
      ]
     },
     "metadata": {
      "needs_background": "light"
     },
     "output_type": "display_data"
    }
   ],
   "source": [
    "ax = sns.boxplot(x ='TargetB', y='DemMedHomeValue', data=df)\n",
    "plt.show()"
   ]
  },
  {
   "cell_type": "code",
   "execution_count": 12,
   "metadata": {},
   "outputs": [],
   "source": [
    "df['DemCluster'] = df['DemCluster'].astype(str)"
   ]
  },
  {
   "cell_type": "code",
   "execution_count": 13,
   "metadata": {},
   "outputs": [
    {
     "data": {
      "text/plain": [
       "H    5377\n",
       "U    4309\n",
       "Name: DemHomeOwner, dtype: int64"
      ]
     },
     "execution_count": 13,
     "metadata": {},
     "output_type": "execute_result"
    }
   ],
   "source": [
    "df['DemHomeOwner'].value_counts()"
   ]
  },
  {
   "cell_type": "code",
   "execution_count": 14,
   "metadata": {},
   "outputs": [],
   "source": [
    "dem_home_owner_map = {'U':0, 'H': 1}\n",
    "df['DemHomeOwner'] = df['DemHomeOwner'].map(dem_home_owner_map)"
   ]
  },
  {
   "cell_type": "code",
   "execution_count": 15,
   "metadata": {},
   "outputs": [
    {
     "data": {
      "text/plain": [
       "0         2357\n",
       "43100       10\n",
       "46250        8\n",
       "72339        8\n",
       "48772        8\n",
       "67860        7\n",
       "73833        7\n",
       "49277        7\n",
       "57164        7\n",
       "40054        7\n",
       "65906        6\n",
       "68819        6\n",
       "44829        6\n",
       "64579        6\n",
       "65288        6\n",
       "49337        6\n",
       "55991        6\n",
       "49601        6\n",
       "56828        6\n",
       "34619        6\n",
       "87665        6\n",
       "36250        6\n",
       "59357        6\n",
       "50000        6\n",
       "97480        6\n",
       "38750        6\n",
       "80929        6\n",
       "47580        6\n",
       "47308        6\n",
       "47076        6\n",
       "          ... \n",
       "31820        1\n",
       "50251        1\n",
       "43867        1\n",
       "35906        1\n",
       "42047        1\n",
       "59202        1\n",
       "45928        1\n",
       "48244        1\n",
       "62589        1\n",
       "42207        1\n",
       "46261        1\n",
       "45816        1\n",
       "50395        1\n",
       "102368       1\n",
       "44238        1\n",
       "76547        1\n",
       "40136        1\n",
       "56512        1\n",
       "60598        1\n",
       "64265        1\n",
       "41770        1\n",
       "46245        1\n",
       "43787        1\n",
       "33947        1\n",
       "52370        1\n",
       "40080        1\n",
       "29464        1\n",
       "51999        1\n",
       "72485        1\n",
       "41000        1\n",
       "Name: DemMedIncome, Length: 4463, dtype: int64"
      ]
     },
     "execution_count": 15,
     "metadata": {},
     "output_type": "execute_result"
    }
   ],
   "source": [
    "df['DemMedIncome'].value_counts()"
   ]
  },
  {
   "cell_type": "code",
   "execution_count": 16,
   "metadata": {},
   "outputs": [],
   "source": [
    "mask = df['DemMedIncome'] <  1\n",
    "import numpy as np\n",
    "df.loc[mask, 'DemMedIncome'] = np.nan"
   ]
  },
  {
   "cell_type": "code",
   "execution_count": 17,
   "metadata": {},
   "outputs": [],
   "source": [
    "df['DemAge'].fillna(df['DemAge'].mean(), inplace=True)\n",
    "df['DemMedIncome'].fillna(df['DemMedIncome'].mean(), inplace=True)\n",
    "df['GiftAvgCard36'].fillna(df['GiftAvgCard36'].mean(), inplace=True)"
   ]
  },
  {
   "cell_type": "code",
   "execution_count": 18,
   "metadata": {},
   "outputs": [],
   "source": [
    "df.drop(['ID', 'TargetD'], axis=1, inplace=True)"
   ]
  },
  {
   "cell_type": "code",
   "execution_count": 19,
   "metadata": {},
   "outputs": [],
   "source": [
    "demo_df = pd.get_dummies(df['DemGender'])"
   ]
  },
  {
   "cell_type": "code",
   "execution_count": 20,
   "metadata": {},
   "outputs": [
    {
     "data": {
      "text/html": [
       "<div>\n",
       "<style scoped>\n",
       "    .dataframe tbody tr th:only-of-type {\n",
       "        vertical-align: middle;\n",
       "    }\n",
       "\n",
       "    .dataframe tbody tr th {\n",
       "        vertical-align: top;\n",
       "    }\n",
       "\n",
       "    .dataframe thead th {\n",
       "        text-align: right;\n",
       "    }\n",
       "</style>\n",
       "<table border=\"1\" class=\"dataframe\">\n",
       "  <thead>\n",
       "    <tr style=\"text-align: right;\">\n",
       "      <th></th>\n",
       "      <th>F</th>\n",
       "      <th>M</th>\n",
       "      <th>U</th>\n",
       "    </tr>\n",
       "  </thead>\n",
       "  <tbody>\n",
       "    <tr>\n",
       "      <th>0</th>\n",
       "      <td>1</td>\n",
       "      <td>0</td>\n",
       "      <td>0</td>\n",
       "    </tr>\n",
       "    <tr>\n",
       "      <th>1</th>\n",
       "      <td>1</td>\n",
       "      <td>0</td>\n",
       "      <td>0</td>\n",
       "    </tr>\n",
       "    <tr>\n",
       "      <th>2</th>\n",
       "      <td>0</td>\n",
       "      <td>1</td>\n",
       "      <td>0</td>\n",
       "    </tr>\n",
       "    <tr>\n",
       "      <th>3</th>\n",
       "      <td>0</td>\n",
       "      <td>1</td>\n",
       "      <td>0</td>\n",
       "    </tr>\n",
       "    <tr>\n",
       "      <th>4</th>\n",
       "      <td>0</td>\n",
       "      <td>1</td>\n",
       "      <td>0</td>\n",
       "    </tr>\n",
       "    <tr>\n",
       "      <th>5</th>\n",
       "      <td>0</td>\n",
       "      <td>1</td>\n",
       "      <td>0</td>\n",
       "    </tr>\n",
       "    <tr>\n",
       "      <th>6</th>\n",
       "      <td>0</td>\n",
       "      <td>1</td>\n",
       "      <td>0</td>\n",
       "    </tr>\n",
       "    <tr>\n",
       "      <th>7</th>\n",
       "      <td>0</td>\n",
       "      <td>0</td>\n",
       "      <td>1</td>\n",
       "    </tr>\n",
       "    <tr>\n",
       "      <th>8</th>\n",
       "      <td>1</td>\n",
       "      <td>0</td>\n",
       "      <td>0</td>\n",
       "    </tr>\n",
       "    <tr>\n",
       "      <th>9</th>\n",
       "      <td>0</td>\n",
       "      <td>0</td>\n",
       "      <td>1</td>\n",
       "    </tr>\n",
       "    <tr>\n",
       "      <th>10</th>\n",
       "      <td>0</td>\n",
       "      <td>0</td>\n",
       "      <td>1</td>\n",
       "    </tr>\n",
       "    <tr>\n",
       "      <th>11</th>\n",
       "      <td>1</td>\n",
       "      <td>0</td>\n",
       "      <td>0</td>\n",
       "    </tr>\n",
       "    <tr>\n",
       "      <th>12</th>\n",
       "      <td>1</td>\n",
       "      <td>0</td>\n",
       "      <td>0</td>\n",
       "    </tr>\n",
       "    <tr>\n",
       "      <th>13</th>\n",
       "      <td>0</td>\n",
       "      <td>1</td>\n",
       "      <td>0</td>\n",
       "    </tr>\n",
       "    <tr>\n",
       "      <th>14</th>\n",
       "      <td>1</td>\n",
       "      <td>0</td>\n",
       "      <td>0</td>\n",
       "    </tr>\n",
       "    <tr>\n",
       "      <th>15</th>\n",
       "      <td>1</td>\n",
       "      <td>0</td>\n",
       "      <td>0</td>\n",
       "    </tr>\n",
       "    <tr>\n",
       "      <th>16</th>\n",
       "      <td>0</td>\n",
       "      <td>1</td>\n",
       "      <td>0</td>\n",
       "    </tr>\n",
       "    <tr>\n",
       "      <th>17</th>\n",
       "      <td>0</td>\n",
       "      <td>1</td>\n",
       "      <td>0</td>\n",
       "    </tr>\n",
       "    <tr>\n",
       "      <th>18</th>\n",
       "      <td>1</td>\n",
       "      <td>0</td>\n",
       "      <td>0</td>\n",
       "    </tr>\n",
       "    <tr>\n",
       "      <th>19</th>\n",
       "      <td>1</td>\n",
       "      <td>0</td>\n",
       "      <td>0</td>\n",
       "    </tr>\n",
       "    <tr>\n",
       "      <th>20</th>\n",
       "      <td>0</td>\n",
       "      <td>1</td>\n",
       "      <td>0</td>\n",
       "    </tr>\n",
       "    <tr>\n",
       "      <th>21</th>\n",
       "      <td>0</td>\n",
       "      <td>1</td>\n",
       "      <td>0</td>\n",
       "    </tr>\n",
       "    <tr>\n",
       "      <th>22</th>\n",
       "      <td>0</td>\n",
       "      <td>1</td>\n",
       "      <td>0</td>\n",
       "    </tr>\n",
       "    <tr>\n",
       "      <th>23</th>\n",
       "      <td>1</td>\n",
       "      <td>0</td>\n",
       "      <td>0</td>\n",
       "    </tr>\n",
       "    <tr>\n",
       "      <th>24</th>\n",
       "      <td>0</td>\n",
       "      <td>0</td>\n",
       "      <td>1</td>\n",
       "    </tr>\n",
       "    <tr>\n",
       "      <th>25</th>\n",
       "      <td>1</td>\n",
       "      <td>0</td>\n",
       "      <td>0</td>\n",
       "    </tr>\n",
       "    <tr>\n",
       "      <th>26</th>\n",
       "      <td>0</td>\n",
       "      <td>1</td>\n",
       "      <td>0</td>\n",
       "    </tr>\n",
       "    <tr>\n",
       "      <th>27</th>\n",
       "      <td>0</td>\n",
       "      <td>1</td>\n",
       "      <td>0</td>\n",
       "    </tr>\n",
       "    <tr>\n",
       "      <th>28</th>\n",
       "      <td>1</td>\n",
       "      <td>0</td>\n",
       "      <td>0</td>\n",
       "    </tr>\n",
       "    <tr>\n",
       "      <th>29</th>\n",
       "      <td>0</td>\n",
       "      <td>1</td>\n",
       "      <td>0</td>\n",
       "    </tr>\n",
       "    <tr>\n",
       "      <th>...</th>\n",
       "      <td>...</td>\n",
       "      <td>...</td>\n",
       "      <td>...</td>\n",
       "    </tr>\n",
       "    <tr>\n",
       "      <th>9656</th>\n",
       "      <td>0</td>\n",
       "      <td>1</td>\n",
       "      <td>0</td>\n",
       "    </tr>\n",
       "    <tr>\n",
       "      <th>9657</th>\n",
       "      <td>1</td>\n",
       "      <td>0</td>\n",
       "      <td>0</td>\n",
       "    </tr>\n",
       "    <tr>\n",
       "      <th>9658</th>\n",
       "      <td>0</td>\n",
       "      <td>1</td>\n",
       "      <td>0</td>\n",
       "    </tr>\n",
       "    <tr>\n",
       "      <th>9659</th>\n",
       "      <td>1</td>\n",
       "      <td>0</td>\n",
       "      <td>0</td>\n",
       "    </tr>\n",
       "    <tr>\n",
       "      <th>9660</th>\n",
       "      <td>0</td>\n",
       "      <td>1</td>\n",
       "      <td>0</td>\n",
       "    </tr>\n",
       "    <tr>\n",
       "      <th>9661</th>\n",
       "      <td>0</td>\n",
       "      <td>1</td>\n",
       "      <td>0</td>\n",
       "    </tr>\n",
       "    <tr>\n",
       "      <th>9662</th>\n",
       "      <td>0</td>\n",
       "      <td>0</td>\n",
       "      <td>1</td>\n",
       "    </tr>\n",
       "    <tr>\n",
       "      <th>9663</th>\n",
       "      <td>1</td>\n",
       "      <td>0</td>\n",
       "      <td>0</td>\n",
       "    </tr>\n",
       "    <tr>\n",
       "      <th>9664</th>\n",
       "      <td>0</td>\n",
       "      <td>1</td>\n",
       "      <td>0</td>\n",
       "    </tr>\n",
       "    <tr>\n",
       "      <th>9665</th>\n",
       "      <td>1</td>\n",
       "      <td>0</td>\n",
       "      <td>0</td>\n",
       "    </tr>\n",
       "    <tr>\n",
       "      <th>9666</th>\n",
       "      <td>0</td>\n",
       "      <td>1</td>\n",
       "      <td>0</td>\n",
       "    </tr>\n",
       "    <tr>\n",
       "      <th>9667</th>\n",
       "      <td>1</td>\n",
       "      <td>0</td>\n",
       "      <td>0</td>\n",
       "    </tr>\n",
       "    <tr>\n",
       "      <th>9668</th>\n",
       "      <td>1</td>\n",
       "      <td>0</td>\n",
       "      <td>0</td>\n",
       "    </tr>\n",
       "    <tr>\n",
       "      <th>9669</th>\n",
       "      <td>1</td>\n",
       "      <td>0</td>\n",
       "      <td>0</td>\n",
       "    </tr>\n",
       "    <tr>\n",
       "      <th>9670</th>\n",
       "      <td>1</td>\n",
       "      <td>0</td>\n",
       "      <td>0</td>\n",
       "    </tr>\n",
       "    <tr>\n",
       "      <th>9671</th>\n",
       "      <td>0</td>\n",
       "      <td>1</td>\n",
       "      <td>0</td>\n",
       "    </tr>\n",
       "    <tr>\n",
       "      <th>9672</th>\n",
       "      <td>0</td>\n",
       "      <td>1</td>\n",
       "      <td>0</td>\n",
       "    </tr>\n",
       "    <tr>\n",
       "      <th>9673</th>\n",
       "      <td>0</td>\n",
       "      <td>1</td>\n",
       "      <td>0</td>\n",
       "    </tr>\n",
       "    <tr>\n",
       "      <th>9674</th>\n",
       "      <td>1</td>\n",
       "      <td>0</td>\n",
       "      <td>0</td>\n",
       "    </tr>\n",
       "    <tr>\n",
       "      <th>9675</th>\n",
       "      <td>0</td>\n",
       "      <td>0</td>\n",
       "      <td>1</td>\n",
       "    </tr>\n",
       "    <tr>\n",
       "      <th>9676</th>\n",
       "      <td>1</td>\n",
       "      <td>0</td>\n",
       "      <td>0</td>\n",
       "    </tr>\n",
       "    <tr>\n",
       "      <th>9677</th>\n",
       "      <td>0</td>\n",
       "      <td>1</td>\n",
       "      <td>0</td>\n",
       "    </tr>\n",
       "    <tr>\n",
       "      <th>9678</th>\n",
       "      <td>0</td>\n",
       "      <td>1</td>\n",
       "      <td>0</td>\n",
       "    </tr>\n",
       "    <tr>\n",
       "      <th>9679</th>\n",
       "      <td>0</td>\n",
       "      <td>1</td>\n",
       "      <td>0</td>\n",
       "    </tr>\n",
       "    <tr>\n",
       "      <th>9680</th>\n",
       "      <td>0</td>\n",
       "      <td>1</td>\n",
       "      <td>0</td>\n",
       "    </tr>\n",
       "    <tr>\n",
       "      <th>9681</th>\n",
       "      <td>0</td>\n",
       "      <td>1</td>\n",
       "      <td>0</td>\n",
       "    </tr>\n",
       "    <tr>\n",
       "      <th>9682</th>\n",
       "      <td>0</td>\n",
       "      <td>0</td>\n",
       "      <td>1</td>\n",
       "    </tr>\n",
       "    <tr>\n",
       "      <th>9683</th>\n",
       "      <td>1</td>\n",
       "      <td>0</td>\n",
       "      <td>0</td>\n",
       "    </tr>\n",
       "    <tr>\n",
       "      <th>9684</th>\n",
       "      <td>0</td>\n",
       "      <td>1</td>\n",
       "      <td>0</td>\n",
       "    </tr>\n",
       "    <tr>\n",
       "      <th>9685</th>\n",
       "      <td>1</td>\n",
       "      <td>0</td>\n",
       "      <td>0</td>\n",
       "    </tr>\n",
       "  </tbody>\n",
       "</table>\n",
       "<p>9686 rows × 3 columns</p>\n",
       "</div>"
      ],
      "text/plain": [
       "      F  M  U\n",
       "0     1  0  0\n",
       "1     1  0  0\n",
       "2     0  1  0\n",
       "3     0  1  0\n",
       "4     0  1  0\n",
       "5     0  1  0\n",
       "6     0  1  0\n",
       "7     0  0  1\n",
       "8     1  0  0\n",
       "9     0  0  1\n",
       "10    0  0  1\n",
       "11    1  0  0\n",
       "12    1  0  0\n",
       "13    0  1  0\n",
       "14    1  0  0\n",
       "15    1  0  0\n",
       "16    0  1  0\n",
       "17    0  1  0\n",
       "18    1  0  0\n",
       "19    1  0  0\n",
       "20    0  1  0\n",
       "21    0  1  0\n",
       "22    0  1  0\n",
       "23    1  0  0\n",
       "24    0  0  1\n",
       "25    1  0  0\n",
       "26    0  1  0\n",
       "27    0  1  0\n",
       "28    1  0  0\n",
       "29    0  1  0\n",
       "...  .. .. ..\n",
       "9656  0  1  0\n",
       "9657  1  0  0\n",
       "9658  0  1  0\n",
       "9659  1  0  0\n",
       "9660  0  1  0\n",
       "9661  0  1  0\n",
       "9662  0  0  1\n",
       "9663  1  0  0\n",
       "9664  0  1  0\n",
       "9665  1  0  0\n",
       "9666  0  1  0\n",
       "9667  1  0  0\n",
       "9668  1  0  0\n",
       "9669  1  0  0\n",
       "9670  1  0  0\n",
       "9671  0  1  0\n",
       "9672  0  1  0\n",
       "9673  0  1  0\n",
       "9674  1  0  0\n",
       "9675  0  0  1\n",
       "9676  1  0  0\n",
       "9677  0  1  0\n",
       "9678  0  1  0\n",
       "9679  0  1  0\n",
       "9680  0  1  0\n",
       "9681  0  1  0\n",
       "9682  0  0  1\n",
       "9683  1  0  0\n",
       "9684  0  1  0\n",
       "9685  1  0  0\n",
       "\n",
       "[9686 rows x 3 columns]"
      ]
     },
     "execution_count": 20,
     "metadata": {},
     "output_type": "execute_result"
    }
   ],
   "source": [
    "demo_df"
   ]
  },
  {
   "cell_type": "markdown",
   "metadata": {},
   "source": [
    "3. Modifying and Correcting Data\n",
    "Data exploration, grouping and plotting that we performed in the previous section reveal the following problems in the dataset:\n",
    "\n",
    "a) Incorrect type used for DemCluster and DemHomeOwner. DemCluster should be an categorical/nominal variable\n",
    "    and DemHomeOwner should be a binary variable.\n",
    "b) Errorneous/invalid values (0) in DemMedIncome and DemAge.\n",
    "c) Missing values in DemAge, DemMedIncome, GiftAvgCard36.\n",
    "d) Redundant variables in ID and TargetD.\n",
    "We will now rectify these problems.\n",
    "\n",
    "3.1. Setting correct type to variables\n",
    "3.2. Correcting invalid values\n",
    "3.3. Imputing Missing Values\n",
    "3.4. Dropping Unnecessary Variables\n",
    "3.5. Formatting Categorical Variable\n",
    "3.6. Wrapping up"
   ]
  },
  {
   "cell_type": "code",
   "execution_count": 21,
   "metadata": {},
   "outputs": [],
   "source": [
    "# Convert DemCluster column to str\n",
    "df['DemCluster'] = df['DemCluster'].astype(str)"
   ]
  },
  {
   "cell_type": "code",
   "execution_count": 22,
   "metadata": {},
   "outputs": [],
   "source": [
    "#Check the number in different values.\n",
    "df['DemHomeOwner'].value_counts()\n",
    "\n",
    "# Change U and H into 0 and 1.\n",
    "dem_home_owner_map = {'U':0, 'H': 1}\n",
    "df['DemHomeOwner'] = df['DemHomeOwner'].map(dem_home_owner_map)"
   ]
  },
  {
   "cell_type": "code",
   "execution_count": 23,
   "metadata": {},
   "outputs": [
    {
     "name": "stdout",
     "output_type": "stream",
     "text": [
      "Series([], Name: DemHomeOwner, dtype: int64)\n"
     ]
    }
   ],
   "source": [
    "print(df['DemHomeOwner'].value_counts())"
   ]
  },
  {
   "cell_type": "code",
   "execution_count": 24,
   "metadata": {},
   "outputs": [
    {
     "name": "stdout",
     "output_type": "stream",
     "text": [
      "[53513.45736117 38750.         38942.         ... 50530.\n",
      " 62717.         59813.        ]\n"
     ]
    }
   ],
   "source": [
    "# Use 'unique' to check how many different value in this column\n",
    "print(df['DemMedIncome'].unique())"
   ]
  },
  {
   "cell_type": "code",
   "execution_count": 25,
   "metadata": {},
   "outputs": [
    {
     "name": "stdout",
     "output_type": "stream",
     "text": [
      "53513.457361    2357\n",
      "43100.000000      10\n",
      "48772.000000       8\n",
      "72339.000000       8\n",
      "46250.000000       8\n",
      "49277.000000       7\n",
      "40054.000000       7\n",
      "73833.000000       7\n",
      "57164.000000       7\n",
      "67860.000000       7\n",
      "47076.000000       6\n",
      "87665.000000       6\n",
      "49337.000000       6\n",
      "47580.000000       6\n",
      "49601.000000       6\n",
      "34619.000000       6\n",
      "51377.000000       6\n",
      "80929.000000       6\n",
      "46240.000000       6\n",
      "44829.000000       6\n",
      "38750.000000       6\n",
      "54217.000000       6\n",
      "65906.000000       6\n",
      "68819.000000       6\n",
      "55991.000000       6\n",
      "65288.000000       6\n",
      "97480.000000       6\n",
      "66949.000000       6\n",
      "64579.000000       6\n",
      "61523.000000       6\n",
      "                ... \n",
      "43483.000000       1\n",
      "46353.000000       1\n",
      "45315.000000       1\n",
      "26847.000000       1\n",
      "28542.000000       1\n",
      "60694.000000       1\n",
      "51004.000000       1\n",
      "32481.000000       1\n",
      "27969.000000       1\n",
      "49877.000000       1\n",
      "38092.000000       1\n",
      "56412.000000       1\n",
      "39367.000000       1\n",
      "26080.000000       1\n",
      "44180.000000       1\n",
      "42404.000000       1\n",
      "42639.000000       1\n",
      "35641.000000       1\n",
      "54597.000000       1\n",
      "69286.000000       1\n",
      "42477.000000       1\n",
      "51674.000000       1\n",
      "43873.000000       1\n",
      "86922.000000       1\n",
      "57075.000000       1\n",
      "40750.000000       1\n",
      "30885.000000       1\n",
      "31404.000000       1\n",
      "38339.000000       1\n",
      "60430.000000       1\n",
      "Name: DemMedIncome, Length: 4463, dtype: int64\n"
     ]
    }
   ],
   "source": [
    "print(df['DemMedIncome'].value_counts())"
   ]
  },
  {
   "cell_type": "code",
   "execution_count": 26,
   "metadata": {},
   "outputs": [],
   "source": [
    "# Find out all rows which fit this condition\n",
    "condition = df['DemMedIncome'] < 1"
   ]
  },
  {
   "cell_type": "code",
   "execution_count": 27,
   "metadata": {},
   "outputs": [],
   "source": [
    "# Use 'loc' to give a nan value in these rows.\n",
    "import numpy as np\n",
    "df.loc[condition, 'DemMedIncome'] = np.nan"
   ]
  },
  {
   "cell_type": "code",
   "execution_count": 28,
   "metadata": {},
   "outputs": [],
   "source": [
    "# impute missing values in DemAge with its mean\n",
    "df['DemAge'].fillna(df['DemAge'].mean(), inplace=True)\n",
    "\n",
    "# impute med income using mean\n",
    "df['DemMedIncome'].fillna(df['DemMedIncome'].mean(), inplace=True)\n",
    "\n",
    "# impute gift avg card 36 using mean\n",
    "df['GiftAvgCard36'].fillna(df['GiftAvgCard36'].mean(), inplace=True)"
   ]
  },
  {
   "cell_type": "code",
   "execution_count": 29,
   "metadata": {},
   "outputs": [
    {
     "data": {
      "text/html": [
       "<div>\n",
       "<style scoped>\n",
       "    .dataframe tbody tr th:only-of-type {\n",
       "        vertical-align: middle;\n",
       "    }\n",
       "\n",
       "    .dataframe tbody tr th {\n",
       "        vertical-align: top;\n",
       "    }\n",
       "\n",
       "    .dataframe thead th {\n",
       "        text-align: right;\n",
       "    }\n",
       "</style>\n",
       "<table border=\"1\" class=\"dataframe\">\n",
       "  <thead>\n",
       "    <tr style=\"text-align: right;\">\n",
       "      <th></th>\n",
       "      <th>F</th>\n",
       "      <th>M</th>\n",
       "      <th>U</th>\n",
       "    </tr>\n",
       "  </thead>\n",
       "  <tbody>\n",
       "    <tr>\n",
       "      <th>0</th>\n",
       "      <td>1</td>\n",
       "      <td>0</td>\n",
       "      <td>0</td>\n",
       "    </tr>\n",
       "    <tr>\n",
       "      <th>1</th>\n",
       "      <td>1</td>\n",
       "      <td>0</td>\n",
       "      <td>0</td>\n",
       "    </tr>\n",
       "    <tr>\n",
       "      <th>2</th>\n",
       "      <td>0</td>\n",
       "      <td>1</td>\n",
       "      <td>0</td>\n",
       "    </tr>\n",
       "    <tr>\n",
       "      <th>3</th>\n",
       "      <td>0</td>\n",
       "      <td>1</td>\n",
       "      <td>0</td>\n",
       "    </tr>\n",
       "    <tr>\n",
       "      <th>4</th>\n",
       "      <td>0</td>\n",
       "      <td>1</td>\n",
       "      <td>0</td>\n",
       "    </tr>\n",
       "  </tbody>\n",
       "</table>\n",
       "</div>"
      ],
      "text/plain": [
       "   F  M  U\n",
       "0  1  0  0\n",
       "1  1  0  0\n",
       "2  0  1  0\n",
       "3  0  1  0\n",
       "4  0  1  0"
      ]
     },
     "execution_count": 29,
     "metadata": {},
     "output_type": "execute_result"
    }
   ],
   "source": [
    "# after one hot encoding\n",
    "demo_dfq = pd.get_dummies(df['DemGender'])\n",
    "demo_dfq.head(5)"
   ]
  },
  {
   "cell_type": "code",
   "execution_count": null,
   "metadata": {},
   "outputs": [],
   "source": []
  }
 ],
 "metadata": {
  "kernelspec": {
   "display_name": "Python 3",
   "language": "python",
   "name": "python3"
  },
  "language_info": {
   "codemirror_mode": {
    "name": "ipython",
    "version": 3
   },
   "file_extension": ".py",
   "mimetype": "text/x-python",
   "name": "python",
   "nbconvert_exporter": "python",
   "pygments_lexer": "ipython3",
   "version": "3.7.6"
  }
 },
 "nbformat": 4,
 "nbformat_minor": 2
}
