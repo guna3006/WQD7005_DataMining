{
 "cells": [
  {
   "cell_type": "markdown",
   "metadata": {},
   "source": [
    "# WQD7005 - Data Mining\n",
    "## Continuous Assessment\n",
    "## Milestone 4"
   ]
  },
  {
   "cell_type": "markdown",
   "metadata": {},
   "source": [
    "#### Matrix Number : 17043640\n",
    "\n",
    "#### Name                 : Gunasegarran Magadevan"
   ]
  },
  {
   "cell_type": "markdown",
   "metadata": {},
   "source": [
    "### Importing the data from downloaded hiveserver2"
   ]
  },
  {
   "cell_type": "code",
   "execution_count": 1,
   "metadata": {},
   "outputs": [],
   "source": [
    "#importing libraries\n",
    "import csv\n",
    "import pandas as pd\n",
    "from pandas.plotting import scatter_matrix\n",
    "%matplotlib inline\n",
    "from matplotlib import pyplot as plt\n",
    "from sklearn.cluster import KMeans"
   ]
  },
  {
   "cell_type": "code",
   "execution_count": 2,
   "metadata": {},
   "outputs": [],
   "source": [
    "#Importing all csv\n",
    "oilCrawl = pd.read_csv(\"../Milestone3/hiveData/goldrate_hive.csv\")\n",
    "goldRate = pd.read_csv(\"../Milestone3/hiveData/oilrate_hive.csv\")\n",
    "currencyExchange = pd.read_csv(\"../Milestone3/hiveData/currencyexchange_hive.csv\")"
   ]
  },
  {
   "cell_type": "code",
   "execution_count": 3,
   "metadata": {},
   "outputs": [
    {
     "data": {
      "text/html": [
       "<div>\n",
       "<style scoped>\n",
       "    .dataframe tbody tr th:only-of-type {\n",
       "        vertical-align: middle;\n",
       "    }\n",
       "\n",
       "    .dataframe tbody tr th {\n",
       "        vertical-align: top;\n",
       "    }\n",
       "\n",
       "    .dataframe thead th {\n",
       "        text-align: right;\n",
       "    }\n",
       "</style>\n",
       "<table border=\"1\" class=\"dataframe\">\n",
       "  <thead>\n",
       "    <tr style=\"text-align: right;\">\n",
       "      <th></th>\n",
       "      <th>MonthYear</th>\n",
       "      <th>Price(USD)</th>\n",
       "      <th>Open(USD)</th>\n",
       "      <th>High(USD)</th>\n",
       "      <th>Low(USD)</th>\n",
       "      <th>Volume(USD)</th>\n",
       "      <th>Change %</th>\n",
       "    </tr>\n",
       "  </thead>\n",
       "  <tbody>\n",
       "    <tr>\n",
       "      <th>0</th>\n",
       "      <td>Mar 20</td>\n",
       "      <td>1502.5</td>\n",
       "      <td>1587.05</td>\n",
       "      <td>1703.9</td>\n",
       "      <td>1451.0</td>\n",
       "      <td>1720.0</td>\n",
       "      <td>-4.10</td>\n",
       "    </tr>\n",
       "    <tr>\n",
       "      <th>1</th>\n",
       "      <td>Feb 20</td>\n",
       "      <td>1566.7</td>\n",
       "      <td>1597.80</td>\n",
       "      <td>1691.7</td>\n",
       "      <td>1551.1</td>\n",
       "      <td>7430.0</td>\n",
       "      <td>-1.34</td>\n",
       "    </tr>\n",
       "    <tr>\n",
       "      <th>2</th>\n",
       "      <td>Jan 20</td>\n",
       "      <td>1587.9</td>\n",
       "      <td>1527.50</td>\n",
       "      <td>1619.6</td>\n",
       "      <td>1526.0</td>\n",
       "      <td>2150.0</td>\n",
       "      <td>4.50</td>\n",
       "    </tr>\n",
       "    <tr>\n",
       "      <th>3</th>\n",
       "      <td>Dec 19</td>\n",
       "      <td>1519.5</td>\n",
       "      <td>1462.80</td>\n",
       "      <td>1523.4</td>\n",
       "      <td>1453.3</td>\n",
       "      <td>12300.0</td>\n",
       "      <td>3.68</td>\n",
       "    </tr>\n",
       "    <tr>\n",
       "      <th>4</th>\n",
       "      <td>Nov 19</td>\n",
       "      <td>1465.6</td>\n",
       "      <td>1511.00</td>\n",
       "      <td>1511.6</td>\n",
       "      <td>1447.1</td>\n",
       "      <td>97340.0</td>\n",
       "      <td>-3.03</td>\n",
       "    </tr>\n",
       "  </tbody>\n",
       "</table>\n",
       "</div>"
      ],
      "text/plain": [
       "  MonthYear  Price(USD)  Open(USD)  High(USD)  Low(USD)  Volume(USD)  Change %\n",
       "0    Mar 20      1502.5    1587.05     1703.9    1451.0       1720.0     -4.10\n",
       "1    Feb 20      1566.7    1597.80     1691.7    1551.1       7430.0     -1.34\n",
       "2    Jan 20      1587.9    1527.50     1619.6    1526.0       2150.0      4.50\n",
       "3    Dec 19      1519.5    1462.80     1523.4    1453.3      12300.0      3.68\n",
       "4    Nov 19      1465.6    1511.00     1511.6    1447.1      97340.0     -3.03"
      ]
     },
     "execution_count": 3,
     "metadata": {},
     "output_type": "execute_result"
    }
   ],
   "source": [
    "#Viewing oilCrawl\n",
    "oilCrawl.head()"
   ]
  },
  {
   "cell_type": "code",
   "execution_count": 4,
   "metadata": {},
   "outputs": [
    {
     "data": {
      "text/html": [
       "<div>\n",
       "<style scoped>\n",
       "    .dataframe tbody tr th:only-of-type {\n",
       "        vertical-align: middle;\n",
       "    }\n",
       "\n",
       "    .dataframe tbody tr th {\n",
       "        vertical-align: top;\n",
       "    }\n",
       "\n",
       "    .dataframe thead th {\n",
       "        text-align: right;\n",
       "    }\n",
       "</style>\n",
       "<table border=\"1\" class=\"dataframe\">\n",
       "  <thead>\n",
       "    <tr style=\"text-align: right;\">\n",
       "      <th></th>\n",
       "      <th>Year</th>\n",
       "      <th>Price(USD)</th>\n",
       "      <th>Open(USD)</th>\n",
       "      <th>High(USD)</th>\n",
       "      <th>Low(USD)</th>\n",
       "      <th>Close(USD)</th>\n",
       "      <th>Change %</th>\n",
       "    </tr>\n",
       "  </thead>\n",
       "  <tbody>\n",
       "    <tr>\n",
       "      <th>0</th>\n",
       "      <td>2020</td>\n",
       "      <td>50.73</td>\n",
       "      <td>61.18</td>\n",
       "      <td>63.27</td>\n",
       "      <td>28.93</td>\n",
       "      <td>28.93</td>\n",
       "      <td>-52.62</td>\n",
       "    </tr>\n",
       "    <tr>\n",
       "      <th>1</th>\n",
       "      <td>2019</td>\n",
       "      <td>57.05</td>\n",
       "      <td>46.54</td>\n",
       "      <td>66.30</td>\n",
       "      <td>46.54</td>\n",
       "      <td>61.06</td>\n",
       "      <td>34.46</td>\n",
       "    </tr>\n",
       "    <tr>\n",
       "      <th>2</th>\n",
       "      <td>2018</td>\n",
       "      <td>64.90</td>\n",
       "      <td>60.37</td>\n",
       "      <td>76.41</td>\n",
       "      <td>42.53</td>\n",
       "      <td>45.41</td>\n",
       "      <td>-24.84</td>\n",
       "    </tr>\n",
       "    <tr>\n",
       "      <th>3</th>\n",
       "      <td>2017</td>\n",
       "      <td>50.84</td>\n",
       "      <td>52.33</td>\n",
       "      <td>60.42</td>\n",
       "      <td>42.53</td>\n",
       "      <td>60.42</td>\n",
       "      <td>12.47</td>\n",
       "    </tr>\n",
       "    <tr>\n",
       "      <th>4</th>\n",
       "      <td>2016</td>\n",
       "      <td>43.58</td>\n",
       "      <td>36.76</td>\n",
       "      <td>54.06</td>\n",
       "      <td>26.21</td>\n",
       "      <td>53.72</td>\n",
       "      <td>45.03</td>\n",
       "    </tr>\n",
       "  </tbody>\n",
       "</table>\n",
       "</div>"
      ],
      "text/plain": [
       "   Year  Price(USD)  Open(USD)  High(USD)  Low(USD)  Close(USD)  Change %\n",
       "0  2020       50.73      61.18      63.27     28.93       28.93    -52.62\n",
       "1  2019       57.05      46.54      66.30     46.54       61.06     34.46\n",
       "2  2018       64.90      60.37      76.41     42.53       45.41    -24.84\n",
       "3  2017       50.84      52.33      60.42     42.53       60.42     12.47\n",
       "4  2016       43.58      36.76      54.06     26.21       53.72     45.03"
      ]
     },
     "execution_count": 4,
     "metadata": {},
     "output_type": "execute_result"
    }
   ],
   "source": [
    "#Viewing goldRate\n",
    "goldRate.head()"
   ]
  },
  {
   "cell_type": "code",
   "execution_count": 5,
   "metadata": {},
   "outputs": [
    {
     "data": {
      "text/html": [
       "<div>\n",
       "<style scoped>\n",
       "    .dataframe tbody tr th:only-of-type {\n",
       "        vertical-align: middle;\n",
       "    }\n",
       "\n",
       "    .dataframe tbody tr th {\n",
       "        vertical-align: top;\n",
       "    }\n",
       "\n",
       "    .dataframe thead th {\n",
       "        text-align: right;\n",
       "    }\n",
       "</style>\n",
       "<table border=\"1\" class=\"dataframe\">\n",
       "  <thead>\n",
       "    <tr style=\"text-align: right;\">\n",
       "      <th></th>\n",
       "      <th>MonthYear</th>\n",
       "      <th>Price(USD)</th>\n",
       "      <th>Open(USD)</th>\n",
       "      <th>High(USD)</th>\n",
       "      <th>Low(USD)</th>\n",
       "      <th>Change %</th>\n",
       "    </tr>\n",
       "  </thead>\n",
       "  <tbody>\n",
       "    <tr>\n",
       "      <th>0</th>\n",
       "      <td>Mar 20</td>\n",
       "      <td>4.3505</td>\n",
       "      <td>4.2125</td>\n",
       "      <td>4.3505</td>\n",
       "      <td>4.1595</td>\n",
       "      <td>3.25</td>\n",
       "    </tr>\n",
       "    <tr>\n",
       "      <th>1</th>\n",
       "      <td>Feb 20</td>\n",
       "      <td>4.2135</td>\n",
       "      <td>4.0975</td>\n",
       "      <td>4.2435</td>\n",
       "      <td>4.0965</td>\n",
       "      <td>2.87</td>\n",
       "    </tr>\n",
       "    <tr>\n",
       "      <th>2</th>\n",
       "      <td>Jan 20</td>\n",
       "      <td>4.0960</td>\n",
       "      <td>4.0890</td>\n",
       "      <td>4.1120</td>\n",
       "      <td>4.0510</td>\n",
       "      <td>0.13</td>\n",
       "    </tr>\n",
       "    <tr>\n",
       "      <th>3</th>\n",
       "      <td>Dec 19</td>\n",
       "      <td>4.0905</td>\n",
       "      <td>4.1775</td>\n",
       "      <td>4.1815</td>\n",
       "      <td>4.0895</td>\n",
       "      <td>-2.06</td>\n",
       "    </tr>\n",
       "    <tr>\n",
       "      <th>4</th>\n",
       "      <td>Nov 19</td>\n",
       "      <td>4.1765</td>\n",
       "      <td>4.1765</td>\n",
       "      <td>4.1865</td>\n",
       "      <td>4.1215</td>\n",
       "      <td>-0.05</td>\n",
       "    </tr>\n",
       "  </tbody>\n",
       "</table>\n",
       "</div>"
      ],
      "text/plain": [
       "  MonthYear  Price(USD)  Open(USD)  High(USD)  Low(USD)  Change %\n",
       "0    Mar 20      4.3505     4.2125     4.3505    4.1595      3.25\n",
       "1    Feb 20      4.2135     4.0975     4.2435    4.0965      2.87\n",
       "2    Jan 20      4.0960     4.0890     4.1120    4.0510      0.13\n",
       "3    Dec 19      4.0905     4.1775     4.1815    4.0895     -2.06\n",
       "4    Nov 19      4.1765     4.1765     4.1865    4.1215     -0.05"
      ]
     },
     "execution_count": 5,
     "metadata": {},
     "output_type": "execute_result"
    }
   ],
   "source": [
    "currencyExchange.head()"
   ]
  },
  {
   "cell_type": "markdown",
   "metadata": {},
   "source": [
    "### Interpretation of data & Communication of Insights of data"
   ]
  },
  {
   "cell_type": "markdown",
   "metadata": {},
   "source": [
    "#### oilCrawl versus currencyExchange\n",
    "#### https://benalexkeen.com/correlation-in-python/\n",
    "#### https://datatofish.com/k-means-clustering-python/"
   ]
  },
  {
   "cell_type": "code",
   "execution_count": 6,
   "metadata": {},
   "outputs": [
    {
     "data": {
      "text/html": [
       "<div>\n",
       "<style scoped>\n",
       "    .dataframe tbody tr th:only-of-type {\n",
       "        vertical-align: middle;\n",
       "    }\n",
       "\n",
       "    .dataframe tbody tr th {\n",
       "        vertical-align: top;\n",
       "    }\n",
       "\n",
       "    .dataframe thead th {\n",
       "        text-align: right;\n",
       "    }\n",
       "</style>\n",
       "<table border=\"1\" class=\"dataframe\">\n",
       "  <thead>\n",
       "    <tr style=\"text-align: right;\">\n",
       "      <th></th>\n",
       "      <th>MonthYear</th>\n",
       "      <th>Price(USD)_x</th>\n",
       "      <th>Open(USD)_x</th>\n",
       "      <th>High(USD)_x</th>\n",
       "      <th>Low(USD)_x</th>\n",
       "      <th>Volume(USD)</th>\n",
       "      <th>Change %_x</th>\n",
       "      <th>Price(USD)_y</th>\n",
       "      <th>Open(USD)_y</th>\n",
       "      <th>High(USD)_y</th>\n",
       "      <th>Low(USD)_y</th>\n",
       "      <th>Change %_y</th>\n",
       "    </tr>\n",
       "  </thead>\n",
       "  <tbody>\n",
       "    <tr>\n",
       "      <th>0</th>\n",
       "      <td>Mar 20</td>\n",
       "      <td>1502.5</td>\n",
       "      <td>1587.05</td>\n",
       "      <td>1703.9</td>\n",
       "      <td>1451.0</td>\n",
       "      <td>1720.0</td>\n",
       "      <td>-4.10</td>\n",
       "      <td>4.3505</td>\n",
       "      <td>4.2125</td>\n",
       "      <td>4.3505</td>\n",
       "      <td>4.1595</td>\n",
       "      <td>3.25</td>\n",
       "    </tr>\n",
       "    <tr>\n",
       "      <th>1</th>\n",
       "      <td>Feb 20</td>\n",
       "      <td>1566.7</td>\n",
       "      <td>1597.80</td>\n",
       "      <td>1691.7</td>\n",
       "      <td>1551.1</td>\n",
       "      <td>7430.0</td>\n",
       "      <td>-1.34</td>\n",
       "      <td>4.2135</td>\n",
       "      <td>4.0975</td>\n",
       "      <td>4.2435</td>\n",
       "      <td>4.0965</td>\n",
       "      <td>2.87</td>\n",
       "    </tr>\n",
       "    <tr>\n",
       "      <th>2</th>\n",
       "      <td>Jan 20</td>\n",
       "      <td>1587.9</td>\n",
       "      <td>1527.50</td>\n",
       "      <td>1619.6</td>\n",
       "      <td>1526.0</td>\n",
       "      <td>2150.0</td>\n",
       "      <td>4.50</td>\n",
       "      <td>4.0960</td>\n",
       "      <td>4.0890</td>\n",
       "      <td>4.1120</td>\n",
       "      <td>4.0510</td>\n",
       "      <td>0.13</td>\n",
       "    </tr>\n",
       "    <tr>\n",
       "      <th>3</th>\n",
       "      <td>Dec 19</td>\n",
       "      <td>1519.5</td>\n",
       "      <td>1462.80</td>\n",
       "      <td>1523.4</td>\n",
       "      <td>1453.3</td>\n",
       "      <td>12300.0</td>\n",
       "      <td>3.68</td>\n",
       "      <td>4.0905</td>\n",
       "      <td>4.1775</td>\n",
       "      <td>4.1815</td>\n",
       "      <td>4.0895</td>\n",
       "      <td>-2.06</td>\n",
       "    </tr>\n",
       "    <tr>\n",
       "      <th>4</th>\n",
       "      <td>Nov 19</td>\n",
       "      <td>1465.6</td>\n",
       "      <td>1511.00</td>\n",
       "      <td>1511.6</td>\n",
       "      <td>1447.1</td>\n",
       "      <td>97340.0</td>\n",
       "      <td>-3.03</td>\n",
       "      <td>4.1765</td>\n",
       "      <td>4.1765</td>\n",
       "      <td>4.1865</td>\n",
       "      <td>4.1215</td>\n",
       "      <td>-0.05</td>\n",
       "    </tr>\n",
       "    <tr>\n",
       "      <th>5</th>\n",
       "      <td>Oct 19</td>\n",
       "      <td>1511.4</td>\n",
       "      <td>1468.70</td>\n",
       "      <td>1518.2</td>\n",
       "      <td>1458.3</td>\n",
       "      <td>4810.0</td>\n",
       "      <td>3.12</td>\n",
       "      <td>4.1785</td>\n",
       "      <td>4.1880</td>\n",
       "      <td>4.1980</td>\n",
       "      <td>4.1730</td>\n",
       "      <td>-0.20</td>\n",
       "    </tr>\n",
       "    <tr>\n",
       "      <th>6</th>\n",
       "      <td>Sep 19</td>\n",
       "      <td>1465.7</td>\n",
       "      <td>1522.90</td>\n",
       "      <td>1553.2</td>\n",
       "      <td>1463.5</td>\n",
       "      <td>9500.0</td>\n",
       "      <td>-3.52</td>\n",
       "      <td>4.1870</td>\n",
       "      <td>4.2120</td>\n",
       "      <td>4.2265</td>\n",
       "      <td>4.1620</td>\n",
       "      <td>-0.44</td>\n",
       "    </tr>\n",
       "    <tr>\n",
       "      <th>7</th>\n",
       "      <td>Aug 19</td>\n",
       "      <td>1519.1</td>\n",
       "      <td>1411.30</td>\n",
       "      <td>1549.3</td>\n",
       "      <td>1400.9</td>\n",
       "      <td>14450.0</td>\n",
       "      <td>6.52</td>\n",
       "      <td>4.2055</td>\n",
       "      <td>4.1375</td>\n",
       "      <td>4.2295</td>\n",
       "      <td>4.1355</td>\n",
       "      <td>1.91</td>\n",
       "    </tr>\n",
       "    <tr>\n",
       "      <th>8</th>\n",
       "      <td>Jul 19</td>\n",
       "      <td>1426.1</td>\n",
       "      <td>1386.60</td>\n",
       "      <td>1444.2</td>\n",
       "      <td>1382.8</td>\n",
       "      <td>77780.0</td>\n",
       "      <td>1.16</td>\n",
       "      <td>4.1265</td>\n",
       "      <td>4.1315</td>\n",
       "      <td>4.1455</td>\n",
       "      <td>4.1035</td>\n",
       "      <td>-0.15</td>\n",
       "    </tr>\n",
       "    <tr>\n",
       "      <th>9</th>\n",
       "      <td>Jun 19</td>\n",
       "      <td>1409.7</td>\n",
       "      <td>1307.00</td>\n",
       "      <td>1433.3</td>\n",
       "      <td>1307.0</td>\n",
       "      <td>5270.0</td>\n",
       "      <td>7.96</td>\n",
       "      <td>4.1325</td>\n",
       "      <td>4.1925</td>\n",
       "      <td>4.1925</td>\n",
       "      <td>4.1315</td>\n",
       "      <td>-1.38</td>\n",
       "    </tr>\n",
       "  </tbody>\n",
       "</table>\n",
       "</div>"
      ],
      "text/plain": [
       "  MonthYear  Price(USD)_x  Open(USD)_x  High(USD)_x  Low(USD)_x  Volume(USD)  \\\n",
       "0    Mar 20        1502.5      1587.05       1703.9      1451.0       1720.0   \n",
       "1    Feb 20        1566.7      1597.80       1691.7      1551.1       7430.0   \n",
       "2    Jan 20        1587.9      1527.50       1619.6      1526.0       2150.0   \n",
       "3    Dec 19        1519.5      1462.80       1523.4      1453.3      12300.0   \n",
       "4    Nov 19        1465.6      1511.00       1511.6      1447.1      97340.0   \n",
       "5    Oct 19        1511.4      1468.70       1518.2      1458.3       4810.0   \n",
       "6    Sep 19        1465.7      1522.90       1553.2      1463.5       9500.0   \n",
       "7    Aug 19        1519.1      1411.30       1549.3      1400.9      14450.0   \n",
       "8    Jul 19        1426.1      1386.60       1444.2      1382.8      77780.0   \n",
       "9    Jun 19        1409.7      1307.00       1433.3      1307.0       5270.0   \n",
       "\n",
       "   Change %_x  Price(USD)_y  Open(USD)_y  High(USD)_y  Low(USD)_y  Change %_y  \n",
       "0       -4.10        4.3505       4.2125       4.3505      4.1595        3.25  \n",
       "1       -1.34        4.2135       4.0975       4.2435      4.0965        2.87  \n",
       "2        4.50        4.0960       4.0890       4.1120      4.0510        0.13  \n",
       "3        3.68        4.0905       4.1775       4.1815      4.0895       -2.06  \n",
       "4       -3.03        4.1765       4.1765       4.1865      4.1215       -0.05  \n",
       "5        3.12        4.1785       4.1880       4.1980      4.1730       -0.20  \n",
       "6       -3.52        4.1870       4.2120       4.2265      4.1620       -0.44  \n",
       "7        6.52        4.2055       4.1375       4.2295      4.1355        1.91  \n",
       "8        1.16        4.1265       4.1315       4.1455      4.1035       -0.15  \n",
       "9        7.96        4.1325       4.1925       4.1925      4.1315       -1.38  "
      ]
     },
     "execution_count": 6,
     "metadata": {},
     "output_type": "execute_result"
    }
   ],
   "source": [
    "# merging oilCrawl and currencyExchange, by MonthYear (foreignKey indexing)\n",
    "oilExchange = pd.merge(oilCrawl, currencyExchange, on = 'MonthYear')\n",
    "oilExchange.head(10)"
   ]
  },
  {
   "cell_type": "code",
   "execution_count": 7,
   "metadata": {},
   "outputs": [
    {
     "data": {
      "text/html": [
       "<div>\n",
       "<style scoped>\n",
       "    .dataframe tbody tr th:only-of-type {\n",
       "        vertical-align: middle;\n",
       "    }\n",
       "\n",
       "    .dataframe tbody tr th {\n",
       "        vertical-align: top;\n",
       "    }\n",
       "\n",
       "    .dataframe thead th {\n",
       "        text-align: right;\n",
       "    }\n",
       "</style>\n",
       "<table border=\"1\" class=\"dataframe\">\n",
       "  <thead>\n",
       "    <tr style=\"text-align: right;\">\n",
       "      <th></th>\n",
       "      <th>MonthYear</th>\n",
       "      <th>Price(USD)_x</th>\n",
       "      <th>Open(USD)_x</th>\n",
       "      <th>High(USD)_x</th>\n",
       "      <th>Low(USD)_x</th>\n",
       "      <th>Volume(USD)</th>\n",
       "      <th>Change %_x</th>\n",
       "      <th>Price(USD)_y</th>\n",
       "      <th>Open(USD)_y</th>\n",
       "      <th>High(USD)_y</th>\n",
       "      <th>Low(USD)_y</th>\n",
       "      <th>Change %_y</th>\n",
       "      <th>VS_Change</th>\n",
       "    </tr>\n",
       "  </thead>\n",
       "  <tbody>\n",
       "    <tr>\n",
       "      <th>0</th>\n",
       "      <td>Mar 20</td>\n",
       "      <td>1502.5</td>\n",
       "      <td>1587.05</td>\n",
       "      <td>1703.9</td>\n",
       "      <td>1451.0</td>\n",
       "      <td>1720.0</td>\n",
       "      <td>-4.10</td>\n",
       "      <td>4.3505</td>\n",
       "      <td>4.2125</td>\n",
       "      <td>4.3505</td>\n",
       "      <td>4.1595</td>\n",
       "      <td>3.25</td>\n",
       "      <td>7.35</td>\n",
       "    </tr>\n",
       "    <tr>\n",
       "      <th>1</th>\n",
       "      <td>Feb 20</td>\n",
       "      <td>1566.7</td>\n",
       "      <td>1597.80</td>\n",
       "      <td>1691.7</td>\n",
       "      <td>1551.1</td>\n",
       "      <td>7430.0</td>\n",
       "      <td>-1.34</td>\n",
       "      <td>4.2135</td>\n",
       "      <td>4.0975</td>\n",
       "      <td>4.2435</td>\n",
       "      <td>4.0965</td>\n",
       "      <td>2.87</td>\n",
       "      <td>4.21</td>\n",
       "    </tr>\n",
       "    <tr>\n",
       "      <th>2</th>\n",
       "      <td>Jan 20</td>\n",
       "      <td>1587.9</td>\n",
       "      <td>1527.50</td>\n",
       "      <td>1619.6</td>\n",
       "      <td>1526.0</td>\n",
       "      <td>2150.0</td>\n",
       "      <td>4.50</td>\n",
       "      <td>4.0960</td>\n",
       "      <td>4.0890</td>\n",
       "      <td>4.1120</td>\n",
       "      <td>4.0510</td>\n",
       "      <td>0.13</td>\n",
       "      <td>-4.37</td>\n",
       "    </tr>\n",
       "    <tr>\n",
       "      <th>3</th>\n",
       "      <td>Dec 19</td>\n",
       "      <td>1519.5</td>\n",
       "      <td>1462.80</td>\n",
       "      <td>1523.4</td>\n",
       "      <td>1453.3</td>\n",
       "      <td>12300.0</td>\n",
       "      <td>3.68</td>\n",
       "      <td>4.0905</td>\n",
       "      <td>4.1775</td>\n",
       "      <td>4.1815</td>\n",
       "      <td>4.0895</td>\n",
       "      <td>-2.06</td>\n",
       "      <td>-5.74</td>\n",
       "    </tr>\n",
       "    <tr>\n",
       "      <th>4</th>\n",
       "      <td>Nov 19</td>\n",
       "      <td>1465.6</td>\n",
       "      <td>1511.00</td>\n",
       "      <td>1511.6</td>\n",
       "      <td>1447.1</td>\n",
       "      <td>97340.0</td>\n",
       "      <td>-3.03</td>\n",
       "      <td>4.1765</td>\n",
       "      <td>4.1765</td>\n",
       "      <td>4.1865</td>\n",
       "      <td>4.1215</td>\n",
       "      <td>-0.05</td>\n",
       "      <td>2.98</td>\n",
       "    </tr>\n",
       "    <tr>\n",
       "      <th>5</th>\n",
       "      <td>Oct 19</td>\n",
       "      <td>1511.4</td>\n",
       "      <td>1468.70</td>\n",
       "      <td>1518.2</td>\n",
       "      <td>1458.3</td>\n",
       "      <td>4810.0</td>\n",
       "      <td>3.12</td>\n",
       "      <td>4.1785</td>\n",
       "      <td>4.1880</td>\n",
       "      <td>4.1980</td>\n",
       "      <td>4.1730</td>\n",
       "      <td>-0.20</td>\n",
       "      <td>-3.32</td>\n",
       "    </tr>\n",
       "    <tr>\n",
       "      <th>6</th>\n",
       "      <td>Sep 19</td>\n",
       "      <td>1465.7</td>\n",
       "      <td>1522.90</td>\n",
       "      <td>1553.2</td>\n",
       "      <td>1463.5</td>\n",
       "      <td>9500.0</td>\n",
       "      <td>-3.52</td>\n",
       "      <td>4.1870</td>\n",
       "      <td>4.2120</td>\n",
       "      <td>4.2265</td>\n",
       "      <td>4.1620</td>\n",
       "      <td>-0.44</td>\n",
       "      <td>3.08</td>\n",
       "    </tr>\n",
       "    <tr>\n",
       "      <th>7</th>\n",
       "      <td>Aug 19</td>\n",
       "      <td>1519.1</td>\n",
       "      <td>1411.30</td>\n",
       "      <td>1549.3</td>\n",
       "      <td>1400.9</td>\n",
       "      <td>14450.0</td>\n",
       "      <td>6.52</td>\n",
       "      <td>4.2055</td>\n",
       "      <td>4.1375</td>\n",
       "      <td>4.2295</td>\n",
       "      <td>4.1355</td>\n",
       "      <td>1.91</td>\n",
       "      <td>-4.61</td>\n",
       "    </tr>\n",
       "    <tr>\n",
       "      <th>8</th>\n",
       "      <td>Jul 19</td>\n",
       "      <td>1426.1</td>\n",
       "      <td>1386.60</td>\n",
       "      <td>1444.2</td>\n",
       "      <td>1382.8</td>\n",
       "      <td>77780.0</td>\n",
       "      <td>1.16</td>\n",
       "      <td>4.1265</td>\n",
       "      <td>4.1315</td>\n",
       "      <td>4.1455</td>\n",
       "      <td>4.1035</td>\n",
       "      <td>-0.15</td>\n",
       "      <td>-1.31</td>\n",
       "    </tr>\n",
       "    <tr>\n",
       "      <th>9</th>\n",
       "      <td>Jun 19</td>\n",
       "      <td>1409.7</td>\n",
       "      <td>1307.00</td>\n",
       "      <td>1433.3</td>\n",
       "      <td>1307.0</td>\n",
       "      <td>5270.0</td>\n",
       "      <td>7.96</td>\n",
       "      <td>4.1325</td>\n",
       "      <td>4.1925</td>\n",
       "      <td>4.1925</td>\n",
       "      <td>4.1315</td>\n",
       "      <td>-1.38</td>\n",
       "      <td>-9.34</td>\n",
       "    </tr>\n",
       "  </tbody>\n",
       "</table>\n",
       "</div>"
      ],
      "text/plain": [
       "  MonthYear  Price(USD)_x  Open(USD)_x  High(USD)_x  Low(USD)_x  Volume(USD)  \\\n",
       "0    Mar 20        1502.5      1587.05       1703.9      1451.0       1720.0   \n",
       "1    Feb 20        1566.7      1597.80       1691.7      1551.1       7430.0   \n",
       "2    Jan 20        1587.9      1527.50       1619.6      1526.0       2150.0   \n",
       "3    Dec 19        1519.5      1462.80       1523.4      1453.3      12300.0   \n",
       "4    Nov 19        1465.6      1511.00       1511.6      1447.1      97340.0   \n",
       "5    Oct 19        1511.4      1468.70       1518.2      1458.3       4810.0   \n",
       "6    Sep 19        1465.7      1522.90       1553.2      1463.5       9500.0   \n",
       "7    Aug 19        1519.1      1411.30       1549.3      1400.9      14450.0   \n",
       "8    Jul 19        1426.1      1386.60       1444.2      1382.8      77780.0   \n",
       "9    Jun 19        1409.7      1307.00       1433.3      1307.0       5270.0   \n",
       "\n",
       "   Change %_x  Price(USD)_y  Open(USD)_y  High(USD)_y  Low(USD)_y  Change %_y  \\\n",
       "0       -4.10        4.3505       4.2125       4.3505      4.1595        3.25   \n",
       "1       -1.34        4.2135       4.0975       4.2435      4.0965        2.87   \n",
       "2        4.50        4.0960       4.0890       4.1120      4.0510        0.13   \n",
       "3        3.68        4.0905       4.1775       4.1815      4.0895       -2.06   \n",
       "4       -3.03        4.1765       4.1765       4.1865      4.1215       -0.05   \n",
       "5        3.12        4.1785       4.1880       4.1980      4.1730       -0.20   \n",
       "6       -3.52        4.1870       4.2120       4.2265      4.1620       -0.44   \n",
       "7        6.52        4.2055       4.1375       4.2295      4.1355        1.91   \n",
       "8        1.16        4.1265       4.1315       4.1455      4.1035       -0.15   \n",
       "9        7.96        4.1325       4.1925       4.1925      4.1315       -1.38   \n",
       "\n",
       "   VS_Change  \n",
       "0       7.35  \n",
       "1       4.21  \n",
       "2      -4.37  \n",
       "3      -5.74  \n",
       "4       2.98  \n",
       "5      -3.32  \n",
       "6       3.08  \n",
       "7      -4.61  \n",
       "8      -1.31  \n",
       "9      -9.34  "
      ]
     },
     "execution_count": 7,
     "metadata": {},
     "output_type": "execute_result"
    }
   ],
   "source": [
    "oilExchange['VS_Change'] = pd.to_numeric(oilExchange['Change %_y'].values) - pd.to_numeric(oilExchange['Change %_x'].values)\n",
    "oilExchange.head(10)"
   ]
  },
  {
   "cell_type": "code",
   "execution_count": 8,
   "metadata": {},
   "outputs": [
    {
     "data": {
      "text/html": [
       "<div>\n",
       "<style scoped>\n",
       "    .dataframe tbody tr th:only-of-type {\n",
       "        vertical-align: middle;\n",
       "    }\n",
       "\n",
       "    .dataframe tbody tr th {\n",
       "        vertical-align: top;\n",
       "    }\n",
       "\n",
       "    .dataframe thead th {\n",
       "        text-align: right;\n",
       "    }\n",
       "</style>\n",
       "<table border=\"1\" class=\"dataframe\">\n",
       "  <thead>\n",
       "    <tr style=\"text-align: right;\">\n",
       "      <th></th>\n",
       "      <th>MonthYear</th>\n",
       "      <th>Price(USD)_x</th>\n",
       "      <th>Open(USD)_x</th>\n",
       "      <th>High(USD)_x</th>\n",
       "      <th>Low(USD)_x</th>\n",
       "      <th>Volume(USD)</th>\n",
       "      <th>Change %_x</th>\n",
       "      <th>Price(USD)_y</th>\n",
       "      <th>Open(USD)_y</th>\n",
       "      <th>High(USD)_y</th>\n",
       "      <th>Low(USD)_y</th>\n",
       "      <th>Change %_y</th>\n",
       "      <th>VS_Change</th>\n",
       "      <th>Price_oilRate_MYR</th>\n",
       "      <th>Price_CurrencyExchange_MYR</th>\n",
       "    </tr>\n",
       "  </thead>\n",
       "  <tbody>\n",
       "    <tr>\n",
       "      <th>0</th>\n",
       "      <td>Mar 20</td>\n",
       "      <td>1502.5</td>\n",
       "      <td>1587.05</td>\n",
       "      <td>1703.9</td>\n",
       "      <td>1451.0</td>\n",
       "      <td>1720.0</td>\n",
       "      <td>-4.10</td>\n",
       "      <td>4.3505</td>\n",
       "      <td>4.2125</td>\n",
       "      <td>4.3505</td>\n",
       "      <td>4.1595</td>\n",
       "      <td>3.25</td>\n",
       "      <td>7.35</td>\n",
       "      <td>6535.87</td>\n",
       "      <td>18.92</td>\n",
       "    </tr>\n",
       "    <tr>\n",
       "      <th>1</th>\n",
       "      <td>Feb 20</td>\n",
       "      <td>1566.7</td>\n",
       "      <td>1597.80</td>\n",
       "      <td>1691.7</td>\n",
       "      <td>1551.1</td>\n",
       "      <td>7430.0</td>\n",
       "      <td>-1.34</td>\n",
       "      <td>4.2135</td>\n",
       "      <td>4.0975</td>\n",
       "      <td>4.2435</td>\n",
       "      <td>4.0965</td>\n",
       "      <td>2.87</td>\n",
       "      <td>4.21</td>\n",
       "      <td>6815.14</td>\n",
       "      <td>18.33</td>\n",
       "    </tr>\n",
       "    <tr>\n",
       "      <th>2</th>\n",
       "      <td>Jan 20</td>\n",
       "      <td>1587.9</td>\n",
       "      <td>1527.50</td>\n",
       "      <td>1619.6</td>\n",
       "      <td>1526.0</td>\n",
       "      <td>2150.0</td>\n",
       "      <td>4.50</td>\n",
       "      <td>4.0960</td>\n",
       "      <td>4.0890</td>\n",
       "      <td>4.1120</td>\n",
       "      <td>4.0510</td>\n",
       "      <td>0.13</td>\n",
       "      <td>-4.37</td>\n",
       "      <td>6907.36</td>\n",
       "      <td>17.82</td>\n",
       "    </tr>\n",
       "    <tr>\n",
       "      <th>3</th>\n",
       "      <td>Dec 19</td>\n",
       "      <td>1519.5</td>\n",
       "      <td>1462.80</td>\n",
       "      <td>1523.4</td>\n",
       "      <td>1453.3</td>\n",
       "      <td>12300.0</td>\n",
       "      <td>3.68</td>\n",
       "      <td>4.0905</td>\n",
       "      <td>4.1775</td>\n",
       "      <td>4.1815</td>\n",
       "      <td>4.0895</td>\n",
       "      <td>-2.06</td>\n",
       "      <td>-5.74</td>\n",
       "      <td>6609.82</td>\n",
       "      <td>17.79</td>\n",
       "    </tr>\n",
       "    <tr>\n",
       "      <th>4</th>\n",
       "      <td>Nov 19</td>\n",
       "      <td>1465.6</td>\n",
       "      <td>1511.00</td>\n",
       "      <td>1511.6</td>\n",
       "      <td>1447.1</td>\n",
       "      <td>97340.0</td>\n",
       "      <td>-3.03</td>\n",
       "      <td>4.1765</td>\n",
       "      <td>4.1765</td>\n",
       "      <td>4.1865</td>\n",
       "      <td>4.1215</td>\n",
       "      <td>-0.05</td>\n",
       "      <td>2.98</td>\n",
       "      <td>6375.36</td>\n",
       "      <td>18.17</td>\n",
       "    </tr>\n",
       "    <tr>\n",
       "      <th>5</th>\n",
       "      <td>Oct 19</td>\n",
       "      <td>1511.4</td>\n",
       "      <td>1468.70</td>\n",
       "      <td>1518.2</td>\n",
       "      <td>1458.3</td>\n",
       "      <td>4810.0</td>\n",
       "      <td>3.12</td>\n",
       "      <td>4.1785</td>\n",
       "      <td>4.1880</td>\n",
       "      <td>4.1980</td>\n",
       "      <td>4.1730</td>\n",
       "      <td>-0.20</td>\n",
       "      <td>-3.32</td>\n",
       "      <td>6574.59</td>\n",
       "      <td>18.18</td>\n",
       "    </tr>\n",
       "    <tr>\n",
       "      <th>6</th>\n",
       "      <td>Sep 19</td>\n",
       "      <td>1465.7</td>\n",
       "      <td>1522.90</td>\n",
       "      <td>1553.2</td>\n",
       "      <td>1463.5</td>\n",
       "      <td>9500.0</td>\n",
       "      <td>-3.52</td>\n",
       "      <td>4.1870</td>\n",
       "      <td>4.2120</td>\n",
       "      <td>4.2265</td>\n",
       "      <td>4.1620</td>\n",
       "      <td>-0.44</td>\n",
       "      <td>3.08</td>\n",
       "      <td>6375.80</td>\n",
       "      <td>18.21</td>\n",
       "    </tr>\n",
       "    <tr>\n",
       "      <th>7</th>\n",
       "      <td>Aug 19</td>\n",
       "      <td>1519.1</td>\n",
       "      <td>1411.30</td>\n",
       "      <td>1549.3</td>\n",
       "      <td>1400.9</td>\n",
       "      <td>14450.0</td>\n",
       "      <td>6.52</td>\n",
       "      <td>4.2055</td>\n",
       "      <td>4.1375</td>\n",
       "      <td>4.2295</td>\n",
       "      <td>4.1355</td>\n",
       "      <td>1.91</td>\n",
       "      <td>-4.61</td>\n",
       "      <td>6608.08</td>\n",
       "      <td>18.29</td>\n",
       "    </tr>\n",
       "    <tr>\n",
       "      <th>8</th>\n",
       "      <td>Jul 19</td>\n",
       "      <td>1426.1</td>\n",
       "      <td>1386.60</td>\n",
       "      <td>1444.2</td>\n",
       "      <td>1382.8</td>\n",
       "      <td>77780.0</td>\n",
       "      <td>1.16</td>\n",
       "      <td>4.1265</td>\n",
       "      <td>4.1315</td>\n",
       "      <td>4.1455</td>\n",
       "      <td>4.1035</td>\n",
       "      <td>-0.15</td>\n",
       "      <td>-1.31</td>\n",
       "      <td>6203.53</td>\n",
       "      <td>17.95</td>\n",
       "    </tr>\n",
       "    <tr>\n",
       "      <th>9</th>\n",
       "      <td>Jun 19</td>\n",
       "      <td>1409.7</td>\n",
       "      <td>1307.00</td>\n",
       "      <td>1433.3</td>\n",
       "      <td>1307.0</td>\n",
       "      <td>5270.0</td>\n",
       "      <td>7.96</td>\n",
       "      <td>4.1325</td>\n",
       "      <td>4.1925</td>\n",
       "      <td>4.1925</td>\n",
       "      <td>4.1315</td>\n",
       "      <td>-1.38</td>\n",
       "      <td>-9.34</td>\n",
       "      <td>6132.20</td>\n",
       "      <td>17.98</td>\n",
       "    </tr>\n",
       "  </tbody>\n",
       "</table>\n",
       "</div>"
      ],
      "text/plain": [
       "  MonthYear  Price(USD)_x  Open(USD)_x  High(USD)_x  Low(USD)_x  Volume(USD)  \\\n",
       "0    Mar 20        1502.5      1587.05       1703.9      1451.0       1720.0   \n",
       "1    Feb 20        1566.7      1597.80       1691.7      1551.1       7430.0   \n",
       "2    Jan 20        1587.9      1527.50       1619.6      1526.0       2150.0   \n",
       "3    Dec 19        1519.5      1462.80       1523.4      1453.3      12300.0   \n",
       "4    Nov 19        1465.6      1511.00       1511.6      1447.1      97340.0   \n",
       "5    Oct 19        1511.4      1468.70       1518.2      1458.3       4810.0   \n",
       "6    Sep 19        1465.7      1522.90       1553.2      1463.5       9500.0   \n",
       "7    Aug 19        1519.1      1411.30       1549.3      1400.9      14450.0   \n",
       "8    Jul 19        1426.1      1386.60       1444.2      1382.8      77780.0   \n",
       "9    Jun 19        1409.7      1307.00       1433.3      1307.0       5270.0   \n",
       "\n",
       "   Change %_x  Price(USD)_y  Open(USD)_y  High(USD)_y  Low(USD)_y  Change %_y  \\\n",
       "0       -4.10        4.3505       4.2125       4.3505      4.1595        3.25   \n",
       "1       -1.34        4.2135       4.0975       4.2435      4.0965        2.87   \n",
       "2        4.50        4.0960       4.0890       4.1120      4.0510        0.13   \n",
       "3        3.68        4.0905       4.1775       4.1815      4.0895       -2.06   \n",
       "4       -3.03        4.1765       4.1765       4.1865      4.1215       -0.05   \n",
       "5        3.12        4.1785       4.1880       4.1980      4.1730       -0.20   \n",
       "6       -3.52        4.1870       4.2120       4.2265      4.1620       -0.44   \n",
       "7        6.52        4.2055       4.1375       4.2295      4.1355        1.91   \n",
       "8        1.16        4.1265       4.1315       4.1455      4.1035       -0.15   \n",
       "9        7.96        4.1325       4.1925       4.1925      4.1315       -1.38   \n",
       "\n",
       "   VS_Change  Price_oilRate_MYR  Price_CurrencyExchange_MYR  \n",
       "0       7.35            6535.87                       18.92  \n",
       "1       4.21            6815.14                       18.33  \n",
       "2      -4.37            6907.36                       17.82  \n",
       "3      -5.74            6609.82                       17.79  \n",
       "4       2.98            6375.36                       18.17  \n",
       "5      -3.32            6574.59                       18.18  \n",
       "6       3.08            6375.80                       18.21  \n",
       "7      -4.61            6608.08                       18.29  \n",
       "8      -1.31            6203.53                       17.95  \n",
       "9      -9.34            6132.20                       17.98  "
      ]
     },
     "execution_count": 8,
     "metadata": {},
     "output_type": "execute_result"
    }
   ],
   "source": [
    "# function for USD converting to MYR\n",
    "# https://www.xe.com/currencyconverter/convert/?Amount=1&From=USD&To=MYR\n",
    "def USD2MYR(x):\n",
    "    convert= pd.to_numeric(x) * 4.35\n",
    "    return convert\n",
    "\n",
    "oilExchange['Price_oilRate_MYR'] = round(oilExchange['Price(USD)_x'].apply(USD2MYR),2)\n",
    "oilExchange['Price_CurrencyExchange_MYR'] = round(oilExchange['Price(USD)_y'].apply(USD2MYR),2)\n",
    "oilExchange.head(10)"
   ]
  },
  {
   "cell_type": "code",
   "execution_count": 9,
   "metadata": {},
   "outputs": [
    {
     "data": {
      "text/html": [
       "<div>\n",
       "<style scoped>\n",
       "    .dataframe tbody tr th:only-of-type {\n",
       "        vertical-align: middle;\n",
       "    }\n",
       "\n",
       "    .dataframe tbody tr th {\n",
       "        vertical-align: top;\n",
       "    }\n",
       "\n",
       "    .dataframe thead th {\n",
       "        text-align: right;\n",
       "    }\n",
       "</style>\n",
       "<table border=\"1\" class=\"dataframe\">\n",
       "  <thead>\n",
       "    <tr style=\"text-align: right;\">\n",
       "      <th></th>\n",
       "      <th>MonthYear</th>\n",
       "      <th>VS_Change</th>\n",
       "      <th>Price_oilRate_MYR</th>\n",
       "      <th>Price_CurrencyExchange_MYR</th>\n",
       "    </tr>\n",
       "  </thead>\n",
       "  <tbody>\n",
       "    <tr>\n",
       "      <th>0</th>\n",
       "      <td>Mar 20</td>\n",
       "      <td>7.35</td>\n",
       "      <td>6535.87</td>\n",
       "      <td>18.92</td>\n",
       "    </tr>\n",
       "    <tr>\n",
       "      <th>1</th>\n",
       "      <td>Feb 20</td>\n",
       "      <td>4.21</td>\n",
       "      <td>6815.14</td>\n",
       "      <td>18.33</td>\n",
       "    </tr>\n",
       "    <tr>\n",
       "      <th>2</th>\n",
       "      <td>Jan 20</td>\n",
       "      <td>-4.37</td>\n",
       "      <td>6907.36</td>\n",
       "      <td>17.82</td>\n",
       "    </tr>\n",
       "    <tr>\n",
       "      <th>3</th>\n",
       "      <td>Dec 19</td>\n",
       "      <td>-5.74</td>\n",
       "      <td>6609.82</td>\n",
       "      <td>17.79</td>\n",
       "    </tr>\n",
       "    <tr>\n",
       "      <th>4</th>\n",
       "      <td>Nov 19</td>\n",
       "      <td>2.98</td>\n",
       "      <td>6375.36</td>\n",
       "      <td>18.17</td>\n",
       "    </tr>\n",
       "    <tr>\n",
       "      <th>5</th>\n",
       "      <td>Oct 19</td>\n",
       "      <td>-3.32</td>\n",
       "      <td>6574.59</td>\n",
       "      <td>18.18</td>\n",
       "    </tr>\n",
       "    <tr>\n",
       "      <th>6</th>\n",
       "      <td>Sep 19</td>\n",
       "      <td>3.08</td>\n",
       "      <td>6375.80</td>\n",
       "      <td>18.21</td>\n",
       "    </tr>\n",
       "    <tr>\n",
       "      <th>7</th>\n",
       "      <td>Aug 19</td>\n",
       "      <td>-4.61</td>\n",
       "      <td>6608.08</td>\n",
       "      <td>18.29</td>\n",
       "    </tr>\n",
       "    <tr>\n",
       "      <th>8</th>\n",
       "      <td>Jul 19</td>\n",
       "      <td>-1.31</td>\n",
       "      <td>6203.53</td>\n",
       "      <td>17.95</td>\n",
       "    </tr>\n",
       "    <tr>\n",
       "      <th>9</th>\n",
       "      <td>Jun 19</td>\n",
       "      <td>-9.34</td>\n",
       "      <td>6132.20</td>\n",
       "      <td>17.98</td>\n",
       "    </tr>\n",
       "  </tbody>\n",
       "</table>\n",
       "</div>"
      ],
      "text/plain": [
       "  MonthYear  VS_Change  Price_oilRate_MYR  Price_CurrencyExchange_MYR\n",
       "0    Mar 20       7.35            6535.87                       18.92\n",
       "1    Feb 20       4.21            6815.14                       18.33\n",
       "2    Jan 20      -4.37            6907.36                       17.82\n",
       "3    Dec 19      -5.74            6609.82                       17.79\n",
       "4    Nov 19       2.98            6375.36                       18.17\n",
       "5    Oct 19      -3.32            6574.59                       18.18\n",
       "6    Sep 19       3.08            6375.80                       18.21\n",
       "7    Aug 19      -4.61            6608.08                       18.29\n",
       "8    Jul 19      -1.31            6203.53                       17.95\n",
       "9    Jun 19      -9.34            6132.20                       17.98"
      ]
     },
     "execution_count": 9,
     "metadata": {},
     "output_type": "execute_result"
    }
   ],
   "source": [
    "# removing all unnecessary columns \n",
    "cleanOilExchange = oilExchange.drop(['Price(USD)_x','Open(USD)_x', 'High(USD)_x', 'Low(USD)_x', 'Volume(USD)', 'Change %_x',\n",
    "                                     'Price(USD)_y', 'Open(USD)_y', 'High(USD)_y' ,'Low(USD)_y', 'Change %_y'], axis = 1)\n",
    "cleanOilExchange.head(10)"
   ]
  },
  {
   "cell_type": "code",
   "execution_count": 10,
   "metadata": {},
   "outputs": [
    {
     "data": {
      "text/plain": [
       "<matplotlib.axes._subplots.AxesSubplot at 0x7fc9b1e371d0>"
      ]
     },
     "execution_count": 10,
     "metadata": {},
     "output_type": "execute_result"
    },
    {
     "data": {
      "image/png": "[encoded data removed]",
      "text/plain": [
       "<Figure size 432x288 with 1 Axes>"
      ]
     },
     "metadata": {
      "needs_background": "light"
     },
     "output_type": "display_data"
    }
   ],
   "source": [
    "cleanOilExchange.plot(x=\"VS_Change\", y=\"Price_oilRate_MYR\", kind=\"bar\", title=\"OilCrawl \\n Price VS Change\")"
   ]
  },
  {
   "cell_type": "code",
   "execution_count": 11,
   "metadata": {},
   "outputs": [
    {
     "data": {
      "text/plain": [
       "<matplotlib.axes._subplots.AxesSubplot at 0x7fc9b2968890>"
      ]
     },
     "execution_count": 11,
     "metadata": {},
     "output_type": "execute_result"
    },
    {
     "data": {
      "image/png": "[encoded data removed]",
      "text/plain": [
       "<Figure size 432x288 with 1 Axes>"
      ]
     },
     "metadata": {
      "needs_background": "light"
     },
     "output_type": "display_data"
    }
   ],
   "source": [
    "cleanOilExchange.plot(x=\"VS_Change\", y=\"Price_CurrencyExchange_MYR\", kind=\"bar\", title=\"CurrencyExchange \\n Price VS Change\")"
   ]
  },
  {
   "cell_type": "code",
   "execution_count": 12,
   "metadata": {},
   "outputs": [
    {
     "data": {
      "text/plain": [
       "array([[<matplotlib.axes._subplots.AxesSubplot object at 0x7fc9b2968b50>,\n",
       "        <matplotlib.axes._subplots.AxesSubplot object at 0x7fc9b35dd910>,\n",
       "        <matplotlib.axes._subplots.AxesSubplot object at 0x7fc9b3370b50>],\n",
       "       [<matplotlib.axes._subplots.AxesSubplot object at 0x7fc9b3634850>,\n",
       "        <matplotlib.axes._subplots.AxesSubplot object at 0x7fc9b3700b50>,\n",
       "        <matplotlib.axes._subplots.AxesSubplot object at 0x7fc9b3742890>],\n",
       "       [<matplotlib.axes._subplots.AxesSubplot object at 0x7fc9b3775b90>,\n",
       "        <matplotlib.axes._subplots.AxesSubplot object at 0x7fc9b37b88d0>,\n",
       "        <matplotlib.axes._subplots.AxesSubplot object at 0x7fc9b37c1510>]],\n",
       "      dtype=object)"
      ]
     },
     "execution_count": 12,
     "metadata": {},
     "output_type": "execute_result"
    },
    {
     "data": {
      "image/png": "[encoded data removed]",
      "text/plain": [
       "<Figure size 432x432 with 9 Axes>"
      ]
     },
     "metadata": {
      "needs_background": "light"
     },
     "output_type": "display_data"
    }
   ],
   "source": [
    "scatter_matrix(cleanOilExchange, figsize=(6, 6))"
   ]
  },
  {
   "cell_type": "code",
   "execution_count": 13,
   "metadata": {},
   "outputs": [
    {
     "data": {
      "image/png": "[encoded data removed]",
      "text/plain": [
       "<Figure size 288x288 with 2 Axes>"
      ]
     },
     "metadata": {
      "needs_background": "light"
     },
     "output_type": "display_data"
    }
   ],
   "source": [
    "plt.matshow(cleanOilExchange.corr())\n",
    "plt.xticks(range(len(cleanOilExchange.columns)), cleanOilExchange.columns)\n",
    "plt.yticks(range(len(cleanOilExchange.columns)), cleanOilExchange.columns)\n",
    "plt.colorbar()\n",
    "plt.show()"
   ]
  },
  {
   "cell_type": "code",
   "execution_count": 14,
   "metadata": {},
   "outputs": [
    {
     "name": "stdout",
     "output_type": "stream",
     "text": [
      "[[-5.05370370e-01  5.06474796e+03  1.61143519e+01]\n",
      " [-7.60728745e-02  1.67757389e+03  1.38099190e+01]\n",
      " [-7.03170732e-01  6.84809732e+03  1.45641463e+01]]\n"
     ]
    },
    {
     "data": {
      "image/png": "[encoded data removed]",
      "text/plain": [
       "<Figure size 432x288 with 1 Axes>"
      ]
     },
     "metadata": {
      "needs_background": "light"
     },
     "output_type": "display_data"
    }
   ],
   "source": [
    "cleanOilExchange = cleanOilExchange.drop(['MonthYear'], axis = 1)\n",
    "kmeans = KMeans(n_clusters=3).fit(cleanOilExchange)\n",
    "centroids = kmeans.cluster_centers_\n",
    "print(centroids)\n",
    "\n",
    "plt.scatter(cleanOilExchange['Price_CurrencyExchange_MYR'], cleanOilExchange['Price_oilRate_MYR'], c= kmeans.labels_.astype(float), s=50, alpha=0.5)\n",
    "plt.scatter(centroids[:, 0], centroids[:, 1], c='red', s=50)\n",
    "plt.show()"
   ]
  },
  {
   "cell_type": "markdown",
   "metadata": {},
   "source": [
    "##### fqgregerg"
   ]
  },
  {
   "cell_type": "code",
   "execution_count": 15,
   "metadata": {},
   "outputs": [
    {
     "data": {
      "text/plain": [
       "6.25"
      ]
     },
     "execution_count": 15,
     "metadata": {},
     "output_type": "execute_result"
    }
   ],
   "source": [
    "currencyExchange2020 = currencyExchange[currencyExchange['MonthYear'].str.contains(\"20\")]\n",
    "currencyExchange2020 = currencyExchange2020['Change %'].sum(axis = 0, skipna = True)\n",
    "currencyExchange2020"
   ]
  },
  {
   "cell_type": "code",
   "execution_count": 16,
   "metadata": {},
   "outputs": [
    {
     "data": {
      "text/plain": [
       "-0.9599999999999997"
      ]
     },
     "execution_count": 16,
     "metadata": {},
     "output_type": "execute_result"
    }
   ],
   "source": [
    "currencyExchange2019 = currencyExchange[currencyExchange['MonthYear'].str.contains(\"19\")]\n",
    "currencyExchange2019 = currencyExchange2019['Change %'].sum(axis = 0, skipna = True)\n",
    "currencyExchange2019"
   ]
  },
  {
   "cell_type": "code",
   "execution_count": 17,
   "metadata": {},
   "outputs": [
    {
     "data": {
      "text/plain": [
       "2.2100000000000004"
      ]
     },
     "execution_count": 17,
     "metadata": {},
     "output_type": "execute_result"
    }
   ],
   "source": [
    "currencyExchange2018 = currencyExchange[currencyExchange['MonthYear'].str.contains(\"18\")]\n",
    "currencyExchange2018 = currencyExchange2018['Change %'].sum(axis = 0, skipna = True)\n",
    "currencyExchange2018"
   ]
  },
  {
   "cell_type": "code",
   "execution_count": 18,
   "metadata": {},
   "outputs": [
    {
     "data": {
      "text/plain": [
       "-10.2"
      ]
     },
     "execution_count": 18,
     "metadata": {},
     "output_type": "execute_result"
    }
   ],
   "source": [
    "currencyExchange2017 = currencyExchange[currencyExchange['MonthYear'].str.contains(\"17\")]\n",
    "currencyExchange2017 = currencyExchange2017['Change %'].sum(axis = 0, skipna = True)\n",
    "currencyExchange2017"
   ]
  },
  {
   "cell_type": "code",
   "execution_count": 20,
   "metadata": {},
   "outputs": [
    {
     "data": {
      "text/plain": [
       "5.129999999999999"
      ]
     },
     "execution_count": 20,
     "metadata": {},
     "output_type": "execute_result"
    }
   ],
   "source": [
    "currencyExchange2016 = currencyExchange[currencyExchange['MonthYear'].str.contains(\"16\")]\n",
    "currencyExchange2016 = currencyExchange2016['Change %'].sum(axis = 0, skipna = True)\n",
    "currencyExchange2016"
   ]
  },
  {
   "cell_type": "code",
   "execution_count": 21,
   "metadata": {},
   "outputs": [
    {
     "data": {
      "text/plain": [
       "21.4"
      ]
     },
     "execution_count": 21,
     "metadata": {},
     "output_type": "execute_result"
    }
   ],
   "source": [
    "currencyExchange2015 = currencyExchange[currencyExchange['MonthYear'].str.contains(\"15\")]\n",
    "currencyExchange2015 = currencyExchange2015['Change %'].sum(axis = 0, skipna = True)\n",
    "currencyExchange2015"
   ]
  },
  {
   "cell_type": "code",
   "execution_count": 26,
   "metadata": {},
   "outputs": [
    {
     "data": {
      "text/plain": [
       "-52.62"
      ]
     },
     "execution_count": 26,
     "metadata": {},
     "output_type": "execute_result"
    }
   ],
   "source": [
    "goldRate2020 = goldRate[goldRate['Year']==2020]\n",
    "goldRate2020 = goldRate2020['Change %'].item()\n",
    "goldRate2020"
   ]
  },
  {
   "cell_type": "code",
   "execution_count": 27,
   "metadata": {},
   "outputs": [
    {
     "data": {
      "text/plain": [
       "34.46"
      ]
     },
     "execution_count": 27,
     "metadata": {},
     "output_type": "execute_result"
    }
   ],
   "source": [
    "goldRate2019 = goldRate[goldRate['Year']==2019]\n",
    "goldRate2019 = goldRate2019['Change %'].item()\n",
    "goldRate2019"
   ]
  },
  {
   "cell_type": "code",
   "execution_count": 28,
   "metadata": {},
   "outputs": [
    {
     "data": {
      "text/plain": [
       "-24.84"
      ]
     },
     "execution_count": 28,
     "metadata": {},
     "output_type": "execute_result"
    }
   ],
   "source": [
    "goldRate2018 = goldRate[goldRate['Year']==2018]\n",
    "goldRate2018 = goldRate2018['Change %'].item()\n",
    "goldRate2018"
   ]
  },
  {
   "cell_type": "code",
   "execution_count": 29,
   "metadata": {},
   "outputs": [
    {
     "data": {
      "text/plain": [
       "12.47"
      ]
     },
     "execution_count": 29,
     "metadata": {},
     "output_type": "execute_result"
    }
   ],
   "source": [
    "goldRate2017 = goldRate[goldRate['Year']==2017]\n",
    "goldRate2017 = goldRate2017['Change %'].item()\n",
    "goldRate2017"
   ]
  },
  {
   "cell_type": "code",
   "execution_count": 30,
   "metadata": {},
   "outputs": [
    {
     "data": {
      "text/plain": [
       "45.03"
      ]
     },
     "execution_count": 30,
     "metadata": {},
     "output_type": "execute_result"
    }
   ],
   "source": [
    "goldRate2016 = goldRate[goldRate['Year']==2016]\n",
    "goldRate2016 = goldRate2016['Change %'].item()\n",
    "goldRate2016"
   ]
  },
  {
   "cell_type": "code",
   "execution_count": 31,
   "metadata": {},
   "outputs": [
    {
     "data": {
      "text/plain": [
       "-30.7"
      ]
     },
     "execution_count": 31,
     "metadata": {},
     "output_type": "execute_result"
    }
   ],
   "source": [
    "goldRate2015 = goldRate[goldRate['Year']==2015]\n",
    "goldRate2015 = goldRate2015['Change %'].item()\n",
    "goldRate2015"
   ]
  },
  {
   "cell_type": "code",
   "execution_count": 32,
   "metadata": {},
   "outputs": [
    {
     "data": {
      "text/html": [
       "<div>\n",
       "<style scoped>\n",
       "    .dataframe tbody tr th:only-of-type {\n",
       "        vertical-align: middle;\n",
       "    }\n",
       "\n",
       "    .dataframe tbody tr th {\n",
       "        vertical-align: top;\n",
       "    }\n",
       "\n",
       "    .dataframe thead th {\n",
       "        text-align: right;\n",
       "    }\n",
       "</style>\n",
       "<table border=\"1\" class=\"dataframe\">\n",
       "  <thead>\n",
       "    <tr style=\"text-align: right;\">\n",
       "      <th></th>\n",
       "      <th>Year</th>\n",
       "      <th>Change % of gold</th>\n",
       "      <th>Change % of currency</th>\n",
       "    </tr>\n",
       "  </thead>\n",
       "  <tbody>\n",
       "    <tr>\n",
       "      <th>0</th>\n",
       "      <td>2020</td>\n",
       "      <td>-52.62</td>\n",
       "      <td>6.25</td>\n",
       "    </tr>\n",
       "    <tr>\n",
       "      <th>1</th>\n",
       "      <td>2019</td>\n",
       "      <td>34.46</td>\n",
       "      <td>-0.96</td>\n",
       "    </tr>\n",
       "    <tr>\n",
       "      <th>2</th>\n",
       "      <td>2018</td>\n",
       "      <td>-24.84</td>\n",
       "      <td>2.21</td>\n",
       "    </tr>\n",
       "    <tr>\n",
       "      <th>3</th>\n",
       "      <td>2017</td>\n",
       "      <td>12.47</td>\n",
       "      <td>-10.20</td>\n",
       "    </tr>\n",
       "    <tr>\n",
       "      <th>4</th>\n",
       "      <td>2016</td>\n",
       "      <td>45.03</td>\n",
       "      <td>5.13</td>\n",
       "    </tr>\n",
       "    <tr>\n",
       "      <th>5</th>\n",
       "      <td>2015</td>\n",
       "      <td>-30.70</td>\n",
       "      <td>21.40</td>\n",
       "    </tr>\n",
       "  </tbody>\n",
       "</table>\n",
       "</div>"
      ],
      "text/plain": [
       "   Year  Change % of gold  Change % of currency\n",
       "0  2020            -52.62                  6.25\n",
       "1  2019             34.46                 -0.96\n",
       "2  2018            -24.84                  2.21\n",
       "3  2017             12.47                -10.20\n",
       "4  2016             45.03                  5.13\n",
       "5  2015            -30.70                 21.40"
      ]
     },
     "execution_count": 32,
     "metadata": {},
     "output_type": "execute_result"
    }
   ],
   "source": [
    "currencyVSgold_Changes = {'Year':['2020', '2019', '2018', '2017', '2016', '2015'],\n",
    "                          'Change % of gold':[goldRate2020, goldRate2019, goldRate2018, goldRate2017, goldRate2016, goldRate2015],\n",
    "                         'Change % of currency':[currencyExchange2020, currencyExchange2019, currencyExchange2018, currencyExchange2017, currencyExchange2016, currencyExchange2015]} \n",
    "currencyVSgold_Changes = pd.DataFrame(currencyVSgold_Changes)\n",
    "currencyVSgold_Changes"
   ]
  },
  {
   "cell_type": "code",
   "execution_count": 33,
   "metadata": {},
   "outputs": [
    {
     "data": {
      "text/plain": [
       "<matplotlib.axes._subplots.AxesSubplot at 0x7fc9b5051d90>"
      ]
     },
     "execution_count": 33,
     "metadata": {},
     "output_type": "execute_result"
    },
    {
     "data": {
      "image/png": "[encoded data removed]",
      "text/plain": [
       "<Figure size 432x288 with 1 Axes>"
      ]
     },
     "metadata": {
      "needs_background": "light"
     },
     "output_type": "display_data"
    }
   ],
   "source": [
    "currencyVSgold_Changes.plot(x=\"Year\", y=[\"Change % of gold\",\"Change % of currency\"], kind=\"bar\", title=\"Gold VS Currency \\n Change %\")"
   ]
  },
  {
   "cell_type": "code",
   "execution_count": 36,
   "metadata": {},
   "outputs": [
    {
     "data": {
      "text/plain": [
       "array([[<matplotlib.axes._subplots.AxesSubplot object at 0x7fc9b50514d0>,\n",
       "        <matplotlib.axes._subplots.AxesSubplot object at 0x7fc9b527eb50>],\n",
       "       [<matplotlib.axes._subplots.AxesSubplot object at 0x7fc9b5195290>,\n",
       "        <matplotlib.axes._subplots.AxesSubplot object at 0x7fc9b51c8650>]],\n",
       "      dtype=object)"
      ]
     },
     "execution_count": 36,
     "metadata": {},
     "output_type": "execute_result"
    },
    {
     "data": {
      "image/png": "[encoded data removed]",
      "text/plain": [
       "<Figure size 432x432 with 4 Axes>"
      ]
     },
     "metadata": {
      "needs_background": "light"
     },
     "output_type": "display_data"
    }
   ],
   "source": [
    "scatter_matrix(currencyVSgold_Changes, figsize=(6, 6))"
   ]
  },
  {
   "cell_type": "code",
   "execution_count": 35,
   "metadata": {},
   "outputs": [
    {
     "name": "stdout",
     "output_type": "stream",
     "text": [
      "[[2017.66666667  -36.05333333    9.95333333]\n",
      " [2017.           12.47        -10.2       ]\n",
      " [2017.5          39.745         2.085     ]]\n"
     ]
    },
    {
     "data": {
      "image/png": "[encoded data removed]",
      "text/plain": [
       "<Figure size 432x288 with 1 Axes>"
      ]
     },
     "metadata": {
      "needs_background": "light"
     },
     "output_type": "display_data"
    }
   ],
   "source": [
    "kmeans = KMeans(n_clusters=3).fit(currencyVSgold_Changes)\n",
    "centroids = kmeans.cluster_centers_\n",
    "print(centroids)\n",
    "\n",
    "plt.scatter(currencyVSgold_Changes['Change % of gold'], currencyVSgold_Changes['Change % of currency'], c= kmeans.labels_.astype(float), s=50, alpha=0.5)\n",
    "plt.scatter(centroids[:, 0], centroids[:, 1], c='red', s=50)\n",
    "plt.show()"
   ]
  },
  {
   "cell_type": "code",
   "execution_count": null,
   "metadata": {},
   "outputs": [],
   "source": []
  }
 ],
 "metadata": {
  "kernelspec": {
   "display_name": "Python 3",
   "language": "python",
   "name": "python3"
  },
  "language_info": {
   "codemirror_mode": {
    "name": "ipython",
    "version": 3
   },
   "file_extension": ".py",
   "mimetype": "text/x-python",
   "name": "python",
   "nbconvert_exporter": "python",
   "pygments_lexer": "ipython3",
   "version": "3.7.6"
  }
 },
 "nbformat": 4,
 "nbformat_minor": 2
}
